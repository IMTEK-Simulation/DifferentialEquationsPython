{
 "cells": [
  {
   "cell_type": "markdown",
   "id": "99a34c3f-c400-43cc-99ca-7cece4769b60",
   "metadata": {},
   "source": [
    "## Der Stoßdämpfer (ohne Masse) - Lineare DGL 1. Ordnung\n",
    "\n",
    "### Eine Feder mit Federkonstante $k$ und ein Dämpfer mit Dämpfungskonstante $\\alpha$ seien parallel geschaltet. Die linke Seite der Anordnung verschiebe sich nicht.\n",
    "![alt text](fd_sys.png \"title\")   \n",
    "\n",
    "Die ben dargestellte Abbildung zeigt ein System aus einer Feder und einem Stoßdämpfer, die parallel geschaltet sind.\n",
    "Die Federkraft ist proportional zur Verschiebung $x(t)$ während die Dämpfungskraft proportional zur Geschwindigkeit $v(t)$\n",
    "der Verschiebung ist, $F_\\alpha=\\alpha\\cdot v(t)=\\alpha\\cdot\\dot{x}(t)$. Die Anfangsauslenkung sei $x(0)=x_0$. Die Feder habe eine \n",
    "Gleichgewichtsausdehnung von $x_{eq}$ in der Ruhelage. Die linke Seite des Mechanismus' sei fixiert und bewege sich nicht. \n",
    "Auf die rechte Seite wirke eine Kraft $F(t)$. Die positive Ausdehnung zeige nach links in der oberen Abbildung."
   ]
  },
  {
   "cell_type": "markdown",
   "id": "3f252d6e-2f9b-48b0-9be8-6df0965d8603",
   "metadata": {},
   "source": [
    ">i) Stellen Sie eine Kräftebilanz zwischen $F_k(t)$, $F_\\alpha(t)$ und $F(t)$ auf.  \n",
    "  \n",
    ">ii) Ersetzen Sie nun $F_k$ und $F_\\alpha$. Welche Bilanzgleichung erhalten Sie?  \n",
    "  \n",
    ">iii) Überlegen Sie in welche Richtung jeweils die Kräfte $F_k$ und $F_\\alpha$ wirken, je nach Werten der Größen $x_0$ und $F(t)$.  \n",
    "  \n",
    ">vi) Es sei $F(t)=0$, wie lautet die Lösung der Differentialgleichung?  \n"
   ]
  },
  {
   "cell_type": "markdown",
   "id": "72e8afe1-38e0-45c7-b2cd-5b4e07f343e5",
   "metadata": {},
   "source": [
    "### Die abkühlende Kaffeetasse}\n",
    "Wir wollen den Temperaturverlauf eines Kaffes modellieren.  \n",
    "Hierzu einige Gedanken, die uns bei der Modellierung helfen:  \n",
    "\n",
    "> Der Kaffee habe zu Beginn die Tempertatur $T(0)=T_0$\n",
    "> In unserem Modell soll die Temperatur $T(t)$ des Kaffees abnehmen wenn der Raum kühler ist $T_{Raum}<T_0$ und zunehmen, wenn $T_{Raum}>T_0$ (stellen Sie sich vor, sie säßen mit einer Tasse kalten Kaffees in einer Sauna mit 95$^\\circ$C).  \n",
    "\n",
    "\n",
    ">a) Stellen Sie eine DGL auf, welche das Verhalten der Temperatur des Kaffees beschreibt.\n",
    "\n",
    ">b) Lösen Sie die DGL.\n",
    "\n",
    ">c) Wie verhält sich die Temperatur des Kaffees für große Zeiten?\n",
    "\n",
    ">d) Lösen Sie die DGL numerisch mit python und stellen Sie die Lösung grafisch dar.  "
   ]
  },
  {
   "cell_type": "markdown",
   "id": "7c7986bb-1810-48ef-85e7-2a80315d6d41",
   "metadata": {},
   "source": [
    "### Tank mit kontaminiertem Wasser\n",
    "Ein Tank mit Volumen $V$ habe einen Zu- und einen Abfluss gleichen Querschnitts und soll mit Wasser gefüllt sein. Das Wasser sei kontaminiert, wobei die Kontamination der Verschmutzung $\\rho(t)=Q(t)/V$ betrage, wobei $Q$ die Masse der Verschmutzung darstelle. Der Tank kann nicht vollständig entleert, es kann lediglich ein kontinuierlicher Durchfluss erzeugt werden. Um sauberes Wasser im Tank vorliegen zu haben leiten wir einen reinen Wasserstrom $w$ ein und nehmen an, dass sich das reiner Wasser instantan gleichmäßig verteile.\n",
    "\n",
    ">a) Stellen Sie eine Bilanzgleichung für die zeitliche Veränderung der Konzentration $\\rho(t)$ der Verschmutzung auf.  \n",
    "\n",
    ">b) Geben Sie eine Lösung für $\\rho(t)$ in Abhängigkeit von der Zeit $t$ als unabhängiger Variabler und dem Massendurchfluss $w$ als Paramter auf.  \n",
    "\n",
    ">c) Wie lange dauert es bei einem Volumen $V=1\\text{m}^3$, einer anfänglichen Verschmutzung $c(0)=0.1\\frac{\\text{kg}}{\\text{m}^3}$ und einem Massendurchfluss $w=1\\text{Liter/s}$, bis die Verschmutzung auf $10^{-6}\\frac{\\text{kg}}{\\text{m}^3}$ gefallen ist?\n"
   ]
  },
  {
   "cell_type": "code",
   "execution_count": null,
   "id": "75de84b5-92ef-4a1a-96fb-9df97f852f03",
   "metadata": {},
   "outputs": [],
   "source": []
  }
 ],
 "metadata": {
  "kernelspec": {
   "display_name": "Python 3 (ipykernel)",
   "language": "python",
   "name": "python3"
  },
  "language_info": {
   "codemirror_mode": {
    "name": "ipython",
    "version": 3
   },
   "file_extension": ".py",
   "mimetype": "text/x-python",
   "name": "python",
   "nbconvert_exporter": "python",
   "pygments_lexer": "ipython3",
   "version": "3.12.6"
  },
  "widgets": {
   "application/vnd.jupyter.widget-state+json": {
    "state": {},
    "version_major": 2,
    "version_minor": 0
   }
  }
 },
 "nbformat": 4,
 "nbformat_minor": 5
}
