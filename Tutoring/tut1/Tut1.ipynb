{
 "cells": [
  {
   "attachments": {},
   "cell_type": "markdown",
   "metadata": {},
   "source": [
    "# Tutorat 1\n",
    "## Aufgabe 1.1: Lösen einfacher DGLn\n",
    "\n",
    "Lösen Sie folgende DGLn (Differentialgleichungen) durch Integration.\n",
    "\n",
    "1. $\\dot{x}(t) = 2\\cdot x(t)$\n",
    "1. $\\dot{v}(t) = -v(t)^2$\n",
    "\n",
    "Wie lautet die Lösung folgender Differentialgleichung?\n",
    "$$\\ddot{x}(t) = \\alpha^2 x(t),\\text{ mit }\\alpha^2=\\pm 1$$\n",
    "\n",
    "## Aufgabe 1.2: scipy, numpy, matplotlib\n",
    "\n",
    "In den Tutoraten, den Übungen und auch der Abschlussklausur werden wir oft Python und die Bibliotheken \\textit{numpy, scipy} und \\textit{matplotlib} verwenden. Wir wollen an dieser Stelle eine kleine Einführung in diese geben. \n",
    "1. Erstellen die Graphen der Funktion $f(x) = x^2+1$ und $g(x)=x^4/100+1$ im Intervall $J= [-10,10]$  $x \\in J$. \n",
    "   Unterteilen Sie das Intervall $J$ in 2000 Intervalle der Länge $\\Delta J=0.01$.\n",
    "1. Erstellen Sie zwei Matrizen $\\mathbf{A},\\;\\mathbf{B}$ und einen Vektor $\\mathbf{v}$\n",
    "   $$\n",
    "   \\mathbf{A}=\\left(\\begin{array} 11&2&3\\\\ 4&5&6\\\\ 7&8&9\\end{array}\\right),\\quad\n",
    "   \\mathbf{B}=\\left(\\begin{array} 11&1&-1\\\\ -1&2&1\\\\ 1&-1&3\\end{array}\\right),\\quad\n",
    "   \\mathbf{v}=\\left(\\begin{array} 13\\\\ 2\\\\ 3\\end{array}\\right)\n",
    "   $$\n",
    "   Berechnen Sie die Matrixmultiplikation von $\\mathbf{A}\\text{ mit }\\mathbf{B}$ und die Matrix-Vektormultiplikation von\n",
    "   $\\mathbf{A}\\text{ und }\\mathbf{B}\\text{ mit }\\mathbf{v}$.\n",
    "1. Finden Sie mittels *numpy* Maximum, Minimum und den Durchschnittswert des Arrays *myarr = [99, 34, 0.24, 11, 77]*\n",
    "\n",
    "## Aufgabe 1.3: Taylorreihe\n",
    "\n",
    "Berechnen Sie die Taylorreihen mit Entwicklungspunkte $t=0$ folgender Funktionen: \n",
    "\n",
    "1. $f(t) = e^{\\gamma\\,t}$\n",
    "1. $g(t) = \\sin(\\omega\\,t)$\n",
    "1. $h(x) = \\sqrt[3]{2x^2-1},\\text{ für } x\\ge\\sqrt{0.5}$.\n",
    "\n",
    "Geben Sie für $h(x)$ ein Taylorpolynom 3. Grades um den Entwicklungspunkt $x=1$ an und\n",
    "bestimmen Sie das Restglied $R_3(x)$ im Intervall $x \\in [0.8; 1.2]$. Stellen Sie den\n",
    "Verlauf von $R_3(x)$ im Interval $x \\in [0.8; 1.2]$ graphisch dar.\n",
    "\n",
    "\n",
    "**Hinweis:** Die Taylorreihe einer Funktion $f(x)$\n",
    "im Entwicklungspunkt $x=a$ ist gegeben durch die Summe\n",
    "$$\n",
    "    T_n[f(x),a] = \\sum_{k=0}^{n} \\frac{f^{(k)}(a)}{k!} (x-a)^n+R_{n}(x) \n",
    "$$\n",
    "$f^{(n)}(a)$ ist die Ableitung n-ter Ordnung im Entwicklungspunkt $a$ und \n",
    "das Restglied ist\n",
    "$$\n",
    "R_{n}(x) = \\frac{f^{(n+1)}(\\vartheta)}{(n+1)!} (x - x_0)^{n+1}\n",
    "\\text{, mit }\\vartheta\\in[0.8; 1.2]\n",
    "$$\n"
   ]
  }
 ],
 "metadata": {
  "kernelspec": {
   "display_name": "Python 3 (ipykernel)",
   "language": "python",
   "name": "python3"
  },
  "language_info": {
   "codemirror_mode": {
    "name": "ipython",
    "version": 3
   },
   "file_extension": ".py",
   "mimetype": "text/x-python",
   "name": "python",
   "nbconvert_exporter": "python",
   "pygments_lexer": "ipython3",
   "version": "3.12.6"
  },
  "widgets": {
   "application/vnd.jupyter.widget-state+json": {
    "state": {},
    "version_major": 2,
    "version_minor": 0
   }
  }
 },
 "nbformat": 4,
 "nbformat_minor": 4
}
