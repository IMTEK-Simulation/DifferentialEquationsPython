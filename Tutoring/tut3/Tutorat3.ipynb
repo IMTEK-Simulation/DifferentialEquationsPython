{
 "cells": [
  {
   "attachments": {
    "23f1ddac-aafc-4f4a-97b7-53e8710de9da.png": {
     "image/png": "[encoded data removed]"
    }
   },
   "cell_type": "markdown",
   "id": "b98fe26e-7b06-428a-8e45-b9c62a3cf097",
   "metadata": {},
   "source": [
    "# Stoßdämpfer am Fahrzeug (mit Masse)\n",
    "\n",
    "### Eine Feder mit Federkonstante $k$ und ein Dämpfer mit Dämpfungskonstante $d$ seien parallel geschaltet und mit einer Masse $m$ verbunden. Die linke Seite der Anordnung verschiebe sich nicht. Die Auslenkung der Masse messen wir mit $x(t)$.  \n",
    "\n",
    "![fd.png](attachment:23f1ddac-aafc-4f4a-97b7-53e8710de9da.png)\n",
    "\n",
    "Hier haben wir es zusätzlich zu DGL 1. Ordnung mit einer schwingenden Masse zu tun, \n",
    "die eine Massenträgheit besitzt. Die Abbildung oben zeigt einen harmonischen Oszillator. Die \n",
    "rücktreibende Kraft der Feder ist proportional zur Auslenkung. Der Oszillator ist gedämpft und \n",
    "wird von aussen mit der zeitabhängigen Kraft $F(t)$ getrieben.\n",
    "\n",
    ">1) Stellen Sie die Differentialgleichung für die Auslenkung $x(t)$ des oben abgebildeten System auf.  \n",
    "\n",
    ">2) Berechnen Sie die homogene Lösung der DGL mit Hilfe eines Exponentialansatzes. D.h. es ist zunächst keine getriebene Kraft vorhanden, also \\(F(t) = 0\\) zu setzen.  \n",
    "\n",
    "\n",
    ">3) Vereinfachen Sie die Differentialgleichung  für die Auslenkung, indem Sie durch $m$\n",
    "teilen und setzen Sie dann $\\frac{d}{m}=2\\gamma$. Was passiert für die einzelnen Fälle?\n",
    "\n",
    ">> $(\\gamma^2 > \\omega_0^2)$  \n",
    ">> $(\\gamma^2 < \\omega_0^2)$   \n",
    ">> $(\\gamma^2 = \\omega_0^2)$  \n",
    "\n",
    ">4) Berechnen Sie eine (reelle) Lösung für den Fall $\\gamma^2 < \\omega_0^2$\n",
    "\n",
    "\n",
    ">5) Skizzieren Sie nun die einzelnen Fälle.  \n",
    "\n",
    ">6) Nun wirke eine externe periodische Kraft der Form $f(t) = g\\cdot\\cos(\\omega t)$.\n",
    "        Berechnen Sie die partikuläre Lösung $x_p(t)$, welche die inhomogene DGL löst.\n",
    "\n",
    ">7) Was ist jetzt noch zu tun, um die Anfangsbedingungen \\(s(0) = s_0\\) und \\(\\dot s(0) = v_0\\) zu erfüllen?  "
   ]
  },
  {
   "cell_type": "code",
   "execution_count": null,
   "id": "32fa9644-f5bf-47f8-acb7-b6d5898dd18f",
   "metadata": {},
   "outputs": [],
   "source": []
  }
 ],
 "metadata": {
  "kernelspec": {
   "display_name": "Python 3 (ipykernel)",
   "language": "python",
   "name": "python3"
  },
  "language_info": {
   "codemirror_mode": {
    "name": "ipython",
    "version": 3
   },
   "file_extension": ".py",
   "mimetype": "text/x-python",
   "name": "python",
   "nbconvert_exporter": "python",
   "pygments_lexer": "ipython3",
   "version": "3.12.6"
  },
  "widgets": {
   "application/vnd.jupyter.widget-state+json": {
    "state": {},
    "version_major": 2,
    "version_minor": 0
   }
  }
 },
 "nbformat": 4,
 "nbformat_minor": 5
}
