{
 "cells": [
  {
   "cell_type": "markdown",
   "id": "6231d423-1683-400b-b9a4-45f87845ca4a",
   "metadata": {},
   "source": [
    "## Orthogonale Funktionenräume  \n",
    "Zur Definition orthogonaler Funktionenräume müssen wir zuerst ein inneres Produkt in diesen einführen.\n",
    "Dies machen wir, indem wir den Paaren $f,g\\in\\cal{M}$ die Zahl $z=z(f,g)$ zuordnen und wir definieren \n",
    "dieses innere Produkt als\n",
    "$$\n",
    "\\begin{equation}\n",
    "    \\langle f,g\\rangle = \\int_\\Omega f^*(x)g(x)dx\n",
    "\\end{equation}\n",
    "$$\n",
    "Dabei ist $\\Omega$ der Definitionsbereich der Funktionen.\n",
    "Berechne das innere Produkt von \n",
    "\n",
    ">1. $\\sin(\\frac{2\\pi\\cdot m}{L}x)$ mit $\\sin(\\frac{2\\pi\\cdot n}{L}x)$ und $m\\ne n$  auf dem Intervall $x\\in[0,L]$,\n",
    ">2. $\\sin(\\frac{2\\pi\\cdot m}{L}x)$ mit $\\cos(\\frac{2\\pi\\cdot n}{L}x)$ und $m\\ne n$  auf dem Intervall $x\\in[0,L]$,\n",
    ">3. $e^{ik_nx}$ mit $e^{ik_mx}$ und $k_q=\\frac{2\\pi\\cdot q}{L},\\,q\\in\\mathbb{N}$ auf dem Intervall $x\\in[0,L]$,\n",
    ">4. Zwischen den Legendrepolynomen $P_0(x)=1$, $P_1(x)=x$, $P_2(x)=\\frac{1}{2}(3x^2-1)$ und \n",
    "$P_3(x)=\\frac{1}{2}(5x^3-3x)$ auf dem Intervall $x\\in[-1,1]$.\n",
    ">5. Wir zeigen die Darstellung zweier beliebigen Funktionen im Intervall $[-1,1]$ mit Legendrefunktionen und sehen, dass Polynome n-ter Ordnung mit den n ersten Legendrefuntkionen genau dargestellt werden können. D.h. ein Polynom n-ter Ordnung liegt um Unterraum $\\{P_0, P_1,\\dots,P_n\\}$.\n"
   ]
  },
  {
   "cell_type": "markdown",
   "id": "a6a1419f-2ba5-45d8-9ff1-450c3b2d128b",
   "metadata": {},
   "source": [
    "## Deltafunktionen  \n",
    "Die Deltafunktion bezeichnen wir mit $\\delta(x-x')$. Sie ist keine Funktion im eigentlichen Sinne (siehe Skript). Da wir hier Gebrauch davon machen, wollen wir schon mal ein paar Eigenschaften aufzeigen.\n",
    "$$\n",
    "\\begin{align*}\n",
    "    \\int\\limits_{-\\infty}^{\\infty}\\delta(x-x')f(x)dx&=f(x')\\\\\n",
    "     \\int\\limits_{-\\infty}^{\\infty}\\delta(x)f(x)dx&=f(0)\\\\\n",
    "    \\int\\limits_{-\\infty}^{\\infty}\\delta(x-x')dx&=1\\\\\n",
    "\\end{align*}\n",
    "$$"
   ]
  },
  {
   "cell_type": "markdown",
   "id": "eff36e63-881c-4cff-83bb-da81790ffb7b",
   "metadata": {},
   "source": [
    "## Fouriertransformation\n",
    "$$\n",
    "\\begin{align*}\n",
    "   {\\cal F}\\{f(x)\\}=F(k)=\\int_{-\\infty}^{\\infty}e^{-ikx}f(x)dx\\\\\n",
    "   {\\cal F}^{-1}\\{F(k)\\}=f(x)=\\frac{1}{2\\pi}\\int_{-\\infty}^{\\infty}e^{ikx}F(k)dk\n",
    "\\end{align*}\n",
    "$$\n",
    "\n",
    ">1. Gegeben sei die Funktion\n",
    "$$\n",
    "\\begin{equation*}\n",
    "f(x)=\\left\\{\n",
    "  \\begin{array}[h]{lcr}\n",
    "\\frac{1}{\\varepsilon}&\\mbox{ für }&-\\frac{\\varepsilon}{2}<x<\\frac{\\varepsilon}{2}\\\\\n",
    "    0&\\mbox{ sonst }&\n",
    "  \\end{array}\n",
    "\\right.\n",
    "\\end{equation*}\n",
    "$$\n",
    "im Intervall $I=[-\\frac{L}{2},\\frac{L}{2}]$. Geben Sie die Koeffizienten\n",
    "$f_n$ der Fourier{\\bfseries{reihe}} $f(x) = \\sum_{n=-\\infty}^{n=\\infty}\n",
    "f_ne^{ik_nx}$ an.  Dabei seien $k_n = \\frac{2 \\pi n}{L}$ und $ 0 <\n",
    "\\varepsilon < L$.\n",
    ">2. Welchen Wert nehmen die Koeffizienten im Limes $\\varepsilon\\rightarrow 0$\n",
    "  an?\n",
    ">3. Lassen Sie in der obigen Aufgabe die Intervallgrenzen nach $\\infty$ gehen, also $L\\rightarrow\\infty$ und berechnen Sie die Fourier{\\bfseries{transformation}} $F(k)$ der Funktion $f(x)$.\n",
    ">4. Welchen Wert nimmt die Funktion $F(k)$ im Falle $\\varepsilon\\rightarrow 0$ an?\n",
    ">5. Berechnen Sie die Fouriertransformation $\\hat{f}( \\omega) = \\int_{-\\infty}^\\infty f(t) e^{-i\\omega t} \\text{d}t$ folgender Funktion\n",
    "$$\n",
    "\\begin{equation*}\n",
    "    f(t) = A + B \\sin(\\omega t) + C \\cos(3 \\omega t)\n",
    "\\end{equation*}\n",
    "$$\n",
    "Hierbei können Sie folgende Identität verwenden\n",
    "$$\n",
    "\\begin{equation*}\n",
    "    \\frac{1}{2 \\pi} \\int_{-\\infty}^\\infty e^{-i (\\omega - \\omega_0) t} \\text{d}t = \\delta(\\omega-\\omega_0)\n",
    "\\end{equation*}\n",
    "$$\n",
    "Beachten Sie, dass gilt: $\\int\\limits_a^b\\delta(\\omega-\\omega_0)d\\omega=1$, wenn $\\omega_0\\in[a,b]$, sonst ist dieses Integral 0.\n",
    "Tragen Sie das Amplitudenspektrum $\\vert \\hat{f}(\\omega) \\vert$ über $\\omega$ auf. Was fällt Ihnen im Vergleich zur Funktion $f(t)$ im Zeitbereich auf?\n",
    "\n",
    "**Beachte:**  Die Bildung des Grenzwertes $\\varepsilon\\rightarrow 0$ und die Integration\n",
    "  sind nicht vertauschbar! Es gilt immer: zuerst die Integration, dann der\n",
    "  Grenzübergang."
   ]
  },
  {
   "cell_type": "markdown",
   "id": "984282db-1166-49bf-8c4c-7f8b671375bb",
   "metadata": {},
   "source": [
    "## Laplacetransformation  \n",
    "Jetzt machen wir hier den Übergang wie im Skript. Betrachte\n",
    "$$\n",
    "\\begin{equation}\n",
    "{\\cal F}\\{e^{-xt}f(t)\\}={\\cal L}(s)=\\int_0^\\infty e^{-iyt}e^{-xt}f(t)dt=\\int_0^\\infty e^{-st}f(t)dt\n",
    "\\end{equation}\n",
    "$$\n",
    "\n",
    "\n",
    "|$\\mathcal{L}\\{f(t)\\}$ | f(t) |\n",
    "|--|--|\n",
    "|$sY(s)-y(0)$| $\\dot{y}(t)$\n",
    "|$\\frac{1}{s}$|$1$|\n",
    "|$\\frac{1}{s^2}$|$t$|\n",
    "|$\\frac{2}{s^3}$|$t^2$|\n",
    "|$\\frac{n!}{s^{n+1}}$|$t^n$v\n",
    "|$\\frac{1}{s+\\alpha}$|$e^{-\\alpha t}$|\n",
    "|$\\frac{1}{s(s+\\alpha)}$|$\\frac{1}{\\alpha}(1-e^{-\\alpha t})$|\n",
    "|$\\frac{1}{s^2(s+\\alpha)}$|$\\frac{1}{\\alpha^2}(e^{-\\alpha t}+\\alpha t-1)$|\n",
    "|$\\frac{1}{s^3(s+\\alpha)}$|$\\frac{1}{\\alpha^3}-\\frac{1}{\\alpha^2}t+\\frac{1}{2\\alpha}t^2-\\frac{1}{\\alpha^3}e^{-\\alpha t}$|\n",
    "|$\\frac{a}{s^2+a^2}$v$\\sin(at)$|\n",
    "|$\\frac{a}{(s-b)^2+a^2}$|$e^{bt}\\sin(at)$| \n",
    "|$\\frac{s}{s^2+a^2}$|$\\cos(at)$|\n",
    "|$\\frac{s-b}{(s-b)^2+a^2}$|$e^{bt}\\cos(at)$|"
   ]
  }
 ],
 "metadata": {
  "kernelspec": {
   "display_name": "Python 3 (ipykernel)",
   "language": "python",
   "name": "python3"
  },
  "language_info": {
   "codemirror_mode": {
    "name": "ipython",
    "version": 3
   },
   "file_extension": ".py",
   "mimetype": "text/x-python",
   "name": "python",
   "nbconvert_exporter": "python",
   "pygments_lexer": "ipython3",
   "version": "3.12.6"
  },
  "widgets": {
   "application/vnd.jupyter.widget-state+json": {
    "state": {},
    "version_major": 2,
    "version_minor": 0
   }
  }
 },
 "nbformat": 4,
 "nbformat_minor": 5
}
