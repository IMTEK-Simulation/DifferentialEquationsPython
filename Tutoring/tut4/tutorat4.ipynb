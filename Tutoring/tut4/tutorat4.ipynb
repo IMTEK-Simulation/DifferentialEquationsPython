{
 "cells": [
  {
   "cell_type": "markdown",
   "id": "3a636350-5932-49e2-b5a3-79316da3938f",
   "metadata": {},
   "source": [
    "## Der harmonische Oszillator als System  \n",
    "\n",
    "\n",
    "$x(t)$ bezeichne die Auslenkung aus der Ruhelage des Massenpunktes, d.h. im statischen Gleichgewicht ist $x=0$. \n",
    "$k$ bezeichne die Federkonstante, $m$ die Masse und $d$ die Dämpfungskonstante. Die Anfangsbedingungen seien $x(0)=1$ und $\\dot{x}(0)=0$.\n",
    ">1. Setzen Sie zunächst $k=m=1$, $d=0$  und regen Sie das System mit $f(t)=\\cos{\\omega t}$ an. \n",
    "  Wählen Sie zunächst $\\omega\\ne 1$, also keine Resonanz, z.B. $\\omega=2$. Stellen Sie die Kräftebilanz auf.\n",
    "  Wie lautet die Bewegungsgleichung.  \n",
    ">2. Transformieren Sie die Bewegungsgleichung auf ein System von gekoppelten Differentialgleichungen erster Ordnung mit 2 Freiheitsgraden.  Setzen Sie hierzu $y_1(t)=x(t)$ und $y_2(t)=\\dot{x}(t)$.\n",
    ">3. Erstellen Sie einen Phasenraumgraphen, indem Sie $y_2$ über $y_1$ auftragen.\n",
    ">4.  Was passiert im Resonanzfall?\n",
    ">5.  Es sei nun $d>0$. Lösen Sie das Anfangswertproblem und zeichnen Sie den Phasenraumgraphen.\n",
    "  Untersuchen Sie hier ebenfalls verschiedene Anregungsfrequenzen.\n",
    ">6. Wo liegt in diesem Fall das Maximum der Amplitude?\n"
   ]
  },
  {
   "cell_type": "markdown",
   "id": "42e922eb-0b50-4c41-b7a3-b044b587e697",
   "metadata": {},
   "source": [
    "## Nichtlineare Oszillatoren  \n",
    "Wir modellieren uns einen nichtlinearen Oszillator auf verschiedenste Arten. Wir gehen von der\n",
    "Form der Gleichungen im gekoppelten System erster Ordnung aus\n",
    "$$\n",
    "\\begin{align*}\n",
    "    \\dot{y}_1(t)&=y_2(t)\\\\\n",
    "    \\dot{y}_2(t)&=-y_1(t)+f(y_1(t),y_2(t),t)\n",
    "\\end{align*}\n",
    "$$\n",
    "Nun kommt es auf die Wahl der Funktion $f(y_1(t),y_2(t),t)$ an. Für autonome System hängt $f(y_1(t),y_2(t))$ \n",
    "nicht explizit von der Zeit ab. Zeichnen Sie für folgende Systeme einen Phasenraumplot in einem Graphen und die \n",
    "Lösungen für die $y_i(t)$ in einem zweiten daneben. Benutzen Sie solve\\_ivp und vergleichen Sie die Ergebnisse \n",
    "mit dem linearen Fall.  "
   ]
  },
  {
   "cell_type": "markdown",
   "id": "794371be-6b21-4554-9bd2-1c2d58835b13",
   "metadata": {},
   "source": [
    "## Mechanischer Oszillator  \n",
    ">1. Führen Sie eine nichtlineare Feder ein. Die mit zunehmender Ausdehnung weicher wird und wenn sie\n",
    "    zusammengedrückt wird härter.\n",
    ">2. Führen Sie eine nichtlineare Dämpfung ein, die mit der dritten Potenz der Geschwindigkeit geht.\n",
    ">3.  Nun soll $f(y_1(t),y_2(t))=-b\\cdot(y_1^2-1)\\cdot y_2$ sein. Dies nennt man den van der Pol Oszillator.\n",
    ">4.   Wie sieht der Phasenraumgraph für $f(y_1(t),y_2(t))=b*y_2*\\cos(y_1)$ aus? "
   ]
  },
  {
   "attachments": {
    "ed4716c5-40bb-4c1a-b616-bd3191e3fe4b.png": {
     "image/png": "[encoded data removed]"
    }
   },
   "cell_type": "markdown",
   "id": "d4153bfb-8dff-4fa4-b4ae-27beb17f44f7",
   "metadata": {},
   "source": [
    "## Elektrischer Schwingkreis mit Tunneldiode  \n",
    "Diese sehr instruktive Aufgabe stammt aus dem Buch \\textit{Höhere Mathematik, Band 2} von Meyberg und Vachenauer.\n",
    "\n",
    "Gebeben sei die Kennlinie einer Tunneldiode\n",
    "$$\n",
    "I_T(U)=2\\cdot U_T^3-U_T^2+0.13\\cdot U_T\n",
    "$$\n",
    "|--|\n",
    "|![tunnel.png](attachment:ed4716c5-40bb-4c1a-b616-bd3191e3fe4b.png)|\n",
    ">1. Stellen Sie die zwei Bewegungsgleichungen auf für den Gesamtstrom $I$ in Schaltkreis und dem Spannungsabfall\n",
    "    über der Tunneldiode $U_T$ als abhängige Variable.\n",
    ">2. Es seien $R=10\\Omega$, $C=100\\mu F$, $L=0.1H$, $U_{in}=0.22V$. Starten Sie bei verschiedenen Anfangswerten\n",
    "    $U_T(0)$ und $I(0)$ und zeichnen Sie dafür je einen Phasenraumgraphen."
   ]
  },
  {
   "cell_type": "code",
   "execution_count": null,
   "id": "cd7aeeb3-a9a8-4ca6-ae5d-088ab79e06ee",
   "metadata": {},
   "outputs": [],
   "source": []
  }
 ],
 "metadata": {
  "kernelspec": {
   "display_name": "Python 3 (ipykernel)",
   "language": "python",
   "name": "python3"
  },
  "language_info": {
   "codemirror_mode": {
    "name": "ipython",
    "version": 3
   },
   "file_extension": ".py",
   "mimetype": "text/x-python",
   "name": "python",
   "nbconvert_exporter": "python",
   "pygments_lexer": "ipython3",
   "version": "3.12.6"
  },
  "widgets": {
   "application/vnd.jupyter.widget-state+json": {
    "state": {},
    "version_major": 2,
    "version_minor": 0
   }
  }
 },
 "nbformat": 4,
 "nbformat_minor": 5
}
