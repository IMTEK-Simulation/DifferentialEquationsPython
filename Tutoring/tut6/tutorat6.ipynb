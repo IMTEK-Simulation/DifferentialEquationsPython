{
 "cells": [
  {
   "cell_type": "markdown",
   "id": "40d4bc7f-6876-4a90-8d0a-1c12e091e955",
   "metadata": {},
   "source": [
    "## Signalprocessing (link), DFT  \n",
    "### Teil 1: Signalerzeugung\n",
    "\n",
    "\n",
    ">1. Die Abtastrate soll 44.100 Hz betragen. Erzeugen Sie folgende Signale:  \n",
    "    >a) Sinussignal mit einer Frequenz von 700 Hz und einer Dauer von 1 Sekunde  \n",
    "    >b) Rechtecksignal mit einer Frequenz von 100 Hz und einer Dauer von 1 Sekunde  \n",
    ">2. Wenden Sie eine Fensterfunktion (Hanning-Fenster) auf beide Signale an. Was bewirkt diese?\n",
    ">3. Plotten Sie beide Signale im Zeitbereich."
   ]
  },
  {
   "cell_type": "markdown",
   "id": "ed350851-2ed9-4a9c-a2c6-369bc04111e1",
   "metadata": {},
   "source": [
    "### Teil 2: Kombination von Signalen\n",
    "\n",
    ">1. Kombinieren Sie das Sinussignal und das Rechtecksignal, indem Sie die beiden Signale addieren.\n",
    ">2. Plotten Sie das kombinierte Signal im Zeitbereich.\n",
    ">3. Spielen Sie das kombinierte Signal mit einer Gesamtdauer von 5 Sekunden über den Lautsprecher ab. Verwenden Sie dazu das *sounddevice*-Modul und wiederholen Sie das Signal entsprechend oft (Tipp: <code>np.tile(signal, repeat\\_factor)</code>)."
   ]
  },
  {
   "cell_type": "markdown",
   "id": "75635d14-ae17-4107-8a1a-b43f017c24d5",
   "metadata": {},
   "source": [
    "### Teil 3: Frequenzanalyse  \n",
    "\n",
    ">1. Führen Sie eine diskrete Fourier-Transformation (DFT) auf das kombinierte Signal durch.\n",
    ">2. Plotten Sie das Frequenzspektrum des Signals (Real- und Imaginärteil).\n",
    ">3. Untersuchen Sie die Frequenzkomponenten des Signals und bestimmen Sie, welche Frequenzen dominieren."
   ]
  },
  {
   "cell_type": "markdown",
   "id": "cd84fcdc-cb30-47c0-85ce-82919b368683",
   "metadata": {},
   "source": [
    "### Teil 4: Frequenzfilterung  \n",
    "\n",
    ">1. Implementieren Sie einen Bandpassfilter, der nur die Frequenzen zwischen 650$~ ¼Hz und 750~Hz durchlässt. Verwenden Sie dazu die Fourier-Koeffizienten.\n",
    ">2. Wenden Sie den Filter auf das kombinierte Signal an und transformieren Sie das gefilterte Signal zurück in den Zeitbereich.\n",
    ">3.  Normalisieren Sie das gefilterte Signal und spielen Sie es über den Lautsprecher ab.\n",
    ">4.   Plotten Sie das gefilterte Signal im Zeitbereich."
   ]
  },
  {
   "cell_type": "markdown",
   "id": "72526990-3399-4b2e-b598-bf8cf756dea0",
   "metadata": {},
   "source": [
    "### Teil 5: Diskussion  \n",
    "\n",
    ">1. Diskutieren Sie die Unterschiede zwischen dem ursprünglichen, kombinierten Signal und dem gefilterten Signal. Welche Frequenzen wurden erfolgreich herausgefiltert, und welche sind im gefilterten Signal noch vorhanden?\n",
    ">2. Erklären Sie, warum die Anwendung einer Fensterfunktion (z.B. Hanning) auf das Signal vor der Fourier-Transformation sinnvoll ist.\n",
    ">3.  Diskutieren Sie mögliche Probleme bei der Wiederholung eines Signals und wie man diese durch Fensterfunktionen und Normalisierung beheben kann.\n"
   ]
  },
  {
   "cell_type": "code",
   "execution_count": null,
   "id": "f8d7aeac-4d1a-45d9-ae6e-9a28fb15e742",
   "metadata": {},
   "outputs": [],
   "source": []
  }
 ],
 "metadata": {
  "kernelspec": {
   "display_name": "Python 3 (ipykernel)",
   "language": "python",
   "name": "python3"
  },
  "language_info": {
   "codemirror_mode": {
    "name": "ipython",
    "version": 3
   },
   "file_extension": ".py",
   "mimetype": "text/x-python",
   "name": "python",
   "nbconvert_exporter": "python",
   "pygments_lexer": "ipython3",
   "version": "3.12.6"
  },
  "widgets": {
   "application/vnd.jupyter.widget-state+json": {
    "state": {},
    "version_major": 2,
    "version_minor": 0
   }
  }
 },
 "nbformat": 4,
 "nbformat_minor": 5
}
