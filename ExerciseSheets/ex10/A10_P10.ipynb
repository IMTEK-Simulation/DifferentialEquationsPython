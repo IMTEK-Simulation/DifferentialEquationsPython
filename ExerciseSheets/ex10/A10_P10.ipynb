{
 "cells": [
  {
   "cell_type": "code",
   "execution_count": 1,
   "id": "253a1369",
   "metadata": {},
   "outputs": [],
   "source": [
    "import numpy as np\n",
    "import matplotlib.pyplot as plt\n",
    "from scipy.integrate import solve_ivp"
   ]
  },
  {
   "cell_type": "markdown",
   "id": "cb9595c6",
   "metadata": {},
   "source": [
    "Dieses Blatt widmet sich numerischen Verfahren zum Lösen von AWPs.  \n",
    "Hierfür betrachten wir das **explizite Euler Verfahren** und lösen eine DGL erster Ordnung numerisch. Natürlich gibt es es genauere und bessere Verfahren, wir wollen aber eine möglichst einfache Implementierung und wählen daher dieses!   \n",
    "\n",
    "### Aufgabe P10.1 (5 Punkte) \n",
    "Wir betrachten das <font color='red'>AWP</font>\n",
    "$$\n",
    "\\begin{equation}\n",
    "    \\label{eq:awp}\n",
    "    \\lim_{h\\rightarrow 0}\\frac{y(t+dt)-y(t)}{dt}=\\frac{dy}{d t} = -4y, \\mspace{10mu} y_0=1\n",
    "\\end{equation}\n",
    "$$\n",
    "\n",
    "und wählen eine Diskretisierungs-Schrittweite von $h=0.1$. \\\\ Nun betrachten wir im Folgenden die diskreten Zeitpunkte $t_k = t_0 + dt\\cdot h, k \\in \\{0,1,2,...\\}$ und berechnen jeweils \n",
    "$$\n",
    "\\begin{equation*}\n",
    "    y_{\\mathrm{k+1}} = y_k + dt\\cdot f(t_k, y_k).\n",
    "\\end{equation*}\n",
    "$$\n",
    "wobei $f$ die Ableitung y ist. Dadurch erhalten wir eine numerische Annäherung/Lösung für die DGL.\n",
    "\n",
    ">a) Implementieren Sie das explizite Euler-Verfahren und lösen Sie das Anfangswertproblem (<font color='red'>AWP</font>) im Intervall $t \\in [0,10]$."
   ]
  },
  {
   "cell_type": "code",
   "execution_count": null,
   "id": "39003eb4",
   "metadata": {},
   "outputs": [],
   "source": []
  },
  {
   "cell_type": "markdown",
   "id": "2ca7c727",
   "metadata": {},
   "source": [
    ">b) Lösen Sie das Anfangswertproblem (<font color='red'>AWP</font>) zusätzlich mittels <code>scipy.integrate.solve_ivp</code> und stellen Sie beide Resultate grafisch in einem Plot dar."
   ]
  },
  {
   "cell_type": "code",
   "execution_count": null,
   "id": "67b8a167",
   "metadata": {},
   "outputs": [],
   "source": []
  },
  {
   "cell_type": "markdown",
   "id": "3b647a01",
   "metadata": {},
   "source": [
    "### Aufgabe P10.2 (15 Punkte)\n",
    "Wir lösen und erweitern nun das im Tutorat vorgestellte SIR-Modell.\n",
    "$$\n",
    "\\begin{align}\n",
    "\\dot{S}(t)&=-\\beta S(t)\\cdot\\frac{I(t)}{N(t)}\\\\\n",
    "\\dot{I}(t)&=\\beta S(t)\\cdot\\frac{I(t)}{N(t)}-\\gamma I(t)\\\\\n",
    "\\dot{R}(t)&=\\gamma I(t)\n",
    "\\end{align}\n",
    "$$\n",
    ">a) Lösen Sie das System von DGLs mit dem expliziten Euler-Verfahren und mittels \\verb|scipy.integrate.solve_ivp| numerisch und plotten Sie beide Lösungen in einem Plot. Achten Sie hier auf eine übersichtliche Darstellung (z.B. die Lösung von Scipy gestrichelt). Gehen Sie von einer Population von $10\\cdot 10^3$ Menschen, $100$ infizierten, $\\beta=1.0$ und einer Basisreproduktionszahl\\footnote{Die Infektionen, die ein Kranker während seiner gesamten Krankheit verursacht} von $R_0=10$ aus. Stellen Sie den Zeitraum $0 \\le t \\le 100$ in einem Plot dar."
   ]
  },
  {
   "cell_type": "code",
   "execution_count": null,
   "id": "2a00f30c",
   "metadata": {},
   "outputs": [],
   "source": []
  },
  {
   "cell_type": "markdown",
   "id": "6eabb681",
   "metadata": {},
   "source": [
    ">c) Ermitteln Sie die durchschnittliche Krankheitsdauer im gegebenen Beispiel.\n",
    "    "
   ]
  },
  {
   "cell_type": "code",
   "execution_count": null,
   "id": "61cdb062",
   "metadata": {},
   "outputs": [],
   "source": []
  },
  {
   "cell_type": "markdown",
   "id": "ae3d7bac",
   "metadata": {},
   "source": [
    ">d) Bauen Sie nun eine weitere Größe $D(t)$ ein. Diese soll die Anzahl der an der Pandemie verstorbenen Menschen sein. Wir nehmen eine Letalität von $1$\\% an. Lösen Sie dieses System von DGLs ebenfalls mit Ihrer Euler-Implementation und stellen Sie dieses ebenfalls als Plot dar (Zeitraum $0 \\le t \\le 100$).\n",
    "    "
   ]
  },
  {
   "cell_type": "code",
   "execution_count": null,
   "id": "63ea0194",
   "metadata": {},
   "outputs": [],
   "source": []
  },
  {
   "cell_type": "markdown",
   "id": "2a2c325c",
   "metadata": {},
   "source": [
    ">e) Nach 20 Tagen gebe es nun ein Medikament, das bewirke, dass die Infizierten nur noch halb so ansteckend sind. Modellieren Sie auch dies und stellen Sie in einem weiteren Plot auch diesen Verlauf im gleichen Zeitraum dar. Benutzen Sie hierbei wieder Ihre Euler-Implementierung.\n"
   ]
  },
  {
   "cell_type": "code",
   "execution_count": null,
   "id": "482e53ba",
   "metadata": {},
   "outputs": [],
   "source": []
  }
 ],
 "metadata": {
  "kernelspec": {
   "display_name": "Python 3 (ipykernel)",
   "language": "python",
   "name": "python3"
  },
  "language_info": {
   "codemirror_mode": {
    "name": "ipython",
    "version": 3
   },
   "file_extension": ".py",
   "mimetype": "text/x-python",
   "name": "python",
   "nbconvert_exporter": "python",
   "pygments_lexer": "ipython3",
   "version": "3.12.3"
  }
 },
 "nbformat": 4,
 "nbformat_minor": 5
}
