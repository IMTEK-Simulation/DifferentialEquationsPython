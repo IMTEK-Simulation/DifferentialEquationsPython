{
 "cells": [
  {
   "cell_type": "code",
   "execution_count": 1,
   "id": "26354bb0",
   "metadata": {},
   "outputs": [],
   "source": [
    "import numpy as np\n",
    "import matplotlib.pyplot as plt\n",
    "from scipy.integrate import solve_ivp\n",
    "from matplotlib.gridspec import GridSpec"
   ]
  },
  {
   "cell_type": "markdown",
   "id": "40305764",
   "metadata": {},
   "source": [
    "### Aufgabe P5 - 20 Punkte\n",
    "\n",
    "Wir betrachten zwei Populationen: die Hasen $H(t)$ und die Luchse $L(t)$.\n",
    "\n",
    "![alt text](luchs.png \"this\")\n",
    "\n",
    "Wir gehen davon aus, dass die Hasenpopulation mit einer Rate 1 pro Zeiteinheit zunimmt. Dies \n",
    "motivieren wir mit einer Vermehrung aufgrund einer unerschöpflichen Nahrungsquelle. Die Luchse hingegen \n",
    "sterben mit einer Rate 3/4 pro Zeiteinheit aus, wenn Sie nicht auf einen Hasen treffen. Treffen die \n",
    "Luchse auf einen Hase dann addiert sich hierauf die Rate an Luchsen von 1/4 pro Zeiteinheit pro \n",
    "Haseneinheitspopulations, d.h. wenn ein Hase auf einen Luchs trifft, wird er zur Beute. Umgekehrt \n",
    "wird die Hasenpopulation dadurch um 1/2 pro Zeiteinheit dezimiert. Ein Hase hat also eine 50\\% \n",
    "Chance zu entkommen und sollte er gefressen werden sorgt er für eine halbe Einheit der Luchpopulation.  \n",
    "\n",
    "**Hinweis: Die Gleichgewichtspunkte finden Sie aus dem Differentialgleichungssystem, indem Sie die zeitlichen Veränderungen auf 0 setzen.** \n",
    "  \n",
    ">a) Stellen Sie ein System von gekoppelten Differentialgleichungen erster Ordnung für das Modell auf.\n"
   ]
  },
  {
   "cell_type": "markdown",
   "id": "611008cf",
   "metadata": {},
   "source": []
  },
  {
   "cell_type": "markdown",
   "id": "9fa36994",
   "metadata": {},
   "source": [
    ">b) Zu Beginn leben 5 Füchse und 5 Hasen. Lösen Sie dieses System mittels \\verb|scipy.solve_ivp|.\n",
    "   "
   ]
  },
  {
   "cell_type": "code",
   "execution_count": null,
   "id": "65c41736",
   "metadata": {},
   "outputs": [],
   "source": []
  },
  {
   "cell_type": "markdown",
   "id": "472a1919",
   "metadata": {},
   "source": [
    ">c) Stellen Sie den Verlauf der Hasen-, sowie der Luchspopulation über der Zeit mittels \\verb|matplotlib| in einem Plot grafisch dar."
   ]
  },
  {
   "cell_type": "code",
   "execution_count": null,
   "id": "dff97e64",
   "metadata": {},
   "outputs": [],
   "source": []
  },
  {
   "cell_type": "markdown",
   "id": "ee015854",
   "metadata": {},
   "source": [
    ">d) Stellen Sie die Hasen über die Luchspopulation als Phasenraumkurve dar."
   ]
  },
  {
   "cell_type": "code",
   "execution_count": null,
   "id": "d06b766a",
   "metadata": {},
   "outputs": [],
   "source": []
  },
  {
   "cell_type": "markdown",
   "id": "93348642",
   "metadata": {},
   "source": [
    "> e) Erstellen Sie einen Phasenraumplot mithilfe von <code>quiver</code> und plotten Sie die Trajektorie mit ihren gewählten Anfangsbedingungen in diesen Plot. Wählen Sie hierfür sinnvolle Bereiche auf den Achsen."
   ]
  },
  {
   "cell_type": "code",
   "execution_count": null,
   "id": "94d8e669",
   "metadata": {},
   "outputs": [],
   "source": []
  },
  {
   "cell_type": "markdown",
   "id": "bef4824a",
   "metadata": {},
   "source": [
    "> f) Bestimmen Sie die Gleichgewichtspunktspunkte, in denen sich weder Luchs noch Hasenpopulation über Zeit ändern. Zeichnen Sie diesen in den Phasenraumplot ein."
   ]
  },
  {
   "cell_type": "code",
   "execution_count": null,
   "id": "c3681ae4",
   "metadata": {},
   "outputs": [],
   "source": []
  },
  {
   "cell_type": "markdown",
   "id": "7702162a",
   "metadata": {},
   "source": [
    ">g) Zur Verifikation berechnen Sie mit den berechneten stationären Werten von H und L als Anfangswerte die Trajektorie mittels <code>scipy.solve_ivp</code>."
   ]
  },
  {
   "cell_type": "code",
   "execution_count": null,
   "id": "eb7cb3bf",
   "metadata": {},
   "outputs": [],
   "source": []
  }
 ],
 "metadata": {
  "kernelspec": {
   "display_name": "Python 3 (ipykernel)",
   "language": "python",
   "name": "python3"
  },
  "language_info": {
   "codemirror_mode": {
    "name": "ipython",
    "version": 3
   },
   "file_extension": ".py",
   "mimetype": "text/x-python",
   "name": "python",
   "nbconvert_exporter": "python",
   "pygments_lexer": "ipython3",
   "version": "3.12.3"
  }
 },
 "nbformat": 4,
 "nbformat_minor": 5
}
