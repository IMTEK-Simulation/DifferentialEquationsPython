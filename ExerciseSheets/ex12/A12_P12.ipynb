{
 "cells": [
  {
   "cell_type": "code",
   "execution_count": 1,
   "id": "87718539",
   "metadata": {},
   "outputs": [],
   "source": [
    "import numpy as np\n",
    "import matplotlib.pyplot as plt\n",
    "from scipy.integrate import solve_ivp"
   ]
  },
  {
   "cell_type": "markdown",
   "id": "46e1ca5f",
   "metadata": {},
   "source": [
    "### Aufgabe A12 (Schwingkreis) (10 Punkte)\n",
    "Gegeben ein RLC-Schwingkreis mit einer äußeren Spannungsquelle \\(U(t)\\)\n",
    "(siehe Abb. RLC Schwingkreis). Modellieren Sie diesen zunächst mithilfe der Kirchhoffschen regeln,\n",
    "anschließend nochmal mittels der Lagrange-Funktion.\n",
    "\n",
    "![rlc](rlc_schwing.png \"title\")\n",
    "\n",
    ">1) Stellen Sie anhand der Kichhoffschen Gesetze die Differenzialgleichungen für Strom ($I(t)$) und\n",
    "  Spannung am Kondensator ($U_C(t)$) auf. Benutzen Sie dabei die zeitabhängigen Variablen  \n",
    "  >* $I(t)$, der Strom der durch den Stromkreis läuft  \n",
    "  >* $U(t)$, die von außen angelegte Spannung  \n",
    "  >* $U_C(t)$, die Spannung, welche am Kondensator abfällt  \n",
    "  \n",
    "  sowie die Konstanten  \n",
    "  >* $L$, Induktion der Spule  \n",
    "  >* $C$, Kapazität des Kondensators  \n",
    "  >* $R$, Der Widerstand  \n",
    "  \n",
    "Bringen Sie dabei beide Gleichungen in folgende Form:\n",
    "$$  \n",
    "\\begin{align*}\n",
    "       \\ddot x(t) + a \\dot x(t) + b x(t) = f_{ext}(t),\n",
    "\\end{align*}\n",
    "$$\n",
    "Wobei \\(x(t)\\) einmal \\(I(t)\\) und einmal \\(U_C(t)\\) ist, \\(a, b\\) Konstanten und $(f_{ext}(t))$ eine zeitabhängige Funktion."
   ]
  },
  {
   "cell_type": "markdown",
   "id": "ee41b79e",
   "metadata": {},
   "source": []
  },
  {
   "cell_type": "markdown",
   "id": "ce0c1242",
   "metadata": {},
   "source": [
    ">2) Nun wollen wir selbiges nochmals mit der Lagrange-Funktion ${\\cal L}=W_m^*-W_e$ modellieren. Benutzen Sie dabei die generalisierte Koordinate $q$ (Ladung), die magnetische Ko-Energie $W_m^*$, die elektrische Energie $W_e$, sowie die Dissipationsenergie $D$.  \n",
    ">* $W_m^* = \\frac{1}{2} L \\dot q^2$\n",
    ">* $W_e = \\frac{q^2}{2 C} + U(t)\\cdot q$\n",
    ">* $D = \\frac{1}{2}R\\dot{q}^2$\n",
    "\n",
    "Die Euler-Lagrange-Gleichungen (mit Term für dissipative Energien) liefern die Bewegungsgleichung für $q$\n",
    "$$\n",
    "\\begin{align*}\n",
    "    \\frac{d}{dt} \\frac{\\partial \\cal L}{\\partial \\dot q} - \\frac{\\partial \\cal L}{\\partial q} \n",
    "    + \\frac{\\partial D}{\\partial\\dot{q}} = 0\n",
    "\\end{align*}\n",
    "$$\n",
    "\n",
    "Benutzen Sie schließlich noch $(U_C = \\frac{q}{C})$ und $(\\dot q = I)$ um beide Gleichungen, die\n",
    "  wir aus den Kirchhoffschen Gesetzen erhalten haben zu rekonstruieren.\n"
   ]
  },
  {
   "cell_type": "markdown",
   "id": "4a4ab643",
   "metadata": {},
   "source": []
  },
  {
   "cell_type": "markdown",
   "id": "8e4909b8",
   "metadata": {},
   "source": [
    "### Aufgabe P12 (Schwinkreis) (10 Punkte)\n",
    "a) Lösen Sie die Differenzialgleichungen für $(I(t))$ und $(U_C(t))$ und stellen Sie diese grafisch mittels <code>matplotlib</code> dar. Zum Lösen der DGL haben Sie mittlerweile ein paar Möglichkeiten, suchen Sie sich eine aus.\n",
    "**Benutzen Sie dabei $L=1$, $C=1$, $R=1$ und $U(t) = \\sin(\\omega t)$, mit \\(\\omega = 2\\) sowie die Anfangswerte \\(I(0) = 0\\), \\(\\dot I(0) = 1\\).**  \n",
    ">i) Auf analytischem Weg  "
   ]
  },
  {
   "cell_type": "code",
   "execution_count": null,
   "id": "fbc64ef9",
   "metadata": {},
   "outputs": [],
   "source": []
  },
  {
   "cell_type": "markdown",
   "id": "7796d512",
   "metadata": {},
   "source": [
    ">ii) Mithilfe von <code>solve_ivp</code>  "
   ]
  },
  {
   "cell_type": "code",
   "execution_count": null,
   "id": "d9d2d85a",
   "metadata": {},
   "outputs": [],
   "source": []
  },
  {
   "cell_type": "markdown",
   "id": "7b14c274",
   "metadata": {},
   "source": [
    ">iii) Mithilfe von <code>fft</code>  "
   ]
  },
  {
   "cell_type": "code",
   "execution_count": null,
   "id": "cc581088",
   "metadata": {},
   "outputs": [],
   "source": []
  },
  {
   "cell_type": "markdown",
   "id": "ab0fc46b",
   "metadata": {},
   "source": [
    ">b) Vergleichen Sie den vorherigen Verlauf mit dem Verlauf gegeben durch die Anfangsbedingungen\n",
    "    \\(I(0) = 0\\), \\(\\dot I(0) = -1\\). Was beobachten Sie?"
   ]
  },
  {
   "cell_type": "code",
   "execution_count": null,
   "id": "59a94063",
   "metadata": {},
   "outputs": [],
   "source": []
  },
  {
   "cell_type": "markdown",
   "id": "1011afa3",
   "metadata": {},
   "source": [
    ">c)Benutzen Sie weiterhin die Anfangswerte \\(I(0) = 0\\), \\(\\dot I(0) = -1\\) und vergleichen Sie den Verlauf von \\(I(t)\\) für verschiedene Widerstände $R \\in\\{0.1, 1., 10.\\}$\n",
    "    auf. Was beobachten Sie?\n",
    "    "
   ]
  },
  {
   "cell_type": "code",
   "execution_count": null,
   "id": "144aabe0",
   "metadata": {},
   "outputs": [],
   "source": []
  },
  {
   "cell_type": "markdown",
   "id": "31cccdc7",
   "metadata": {},
   "source": [
    ">d) Und vergleichen Sie zu guter Letzt noch den Verlauf von \\(I(t)\\) für verschiedene Anregungsfrequenzen \\(\\omega \\in \\{1, 3, 10\\}\\). Was beobachten Sie hier ?"
   ]
  },
  {
   "cell_type": "code",
   "execution_count": null,
   "id": "c47132c8",
   "metadata": {},
   "outputs": [],
   "source": []
  }
 ],
 "metadata": {
  "kernelspec": {
   "display_name": "Python 3 (ipykernel)",
   "language": "python",
   "name": "python3"
  },
  "language_info": {
   "codemirror_mode": {
    "name": "ipython",
    "version": 3
   },
   "file_extension": ".py",
   "mimetype": "text/x-python",
   "name": "python",
   "nbconvert_exporter": "python",
   "pygments_lexer": "ipython3",
   "version": "3.12.3"
  }
 },
 "nbformat": 4,
 "nbformat_minor": 5
}
