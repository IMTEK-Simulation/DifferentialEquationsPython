{
 "cells": [
  {
   "cell_type": "code",
   "execution_count": 1,
   "id": "253a1369",
   "metadata": {},
   "outputs": [],
   "source": [
    "import numpy as np\n",
    "import matplotlib.pyplot as plt\n",
    "from scipy.integrate import solve_ivp"
   ]
  },
  {
   "cell_type": "markdown",
   "id": "616c964b",
   "metadata": {},
   "source": [
    "## Aufgabe A11\n",
    "\n",
    "### A11.1 (Lagrange-Modellierung) (10 Punkte)\n",
    "\n",
    "Im folgenden betrachten wir drei verschiedene Systeme. Bestimmen Sie für jedes System jeweils:  \n",
    "\n",
    ">a) Wie lauten die Zwangsbedingungen in kartesischen Koordinaten?"
   ]
  },
  {
   "cell_type": "markdown",
   "id": "e8729465",
   "metadata": {},
   "source": []
  },
  {
   "cell_type": "markdown",
   "id": "2b7b98e5",
   "metadata": {},
   "source": [
    ">b) Wie viele Freiheitsgrade besitzt das System?"
   ]
  },
  {
   "cell_type": "markdown",
   "id": "e9993885",
   "metadata": {},
   "source": []
  },
  {
   "cell_type": "markdown",
   "id": "bb183dd9",
   "metadata": {},
   "source": [
    ">c) Wählen Sie geeignete generalisierte Koordinaten \\(q_j\\) (wir helfen hier ein wenig) und bilden Sie die Transformationen von den kartesischen Koordinaten in diese. Also definieren Sie beispielsweise \\(x(q_1, q_2)\\), \\(y(q_1, q_2)\\), falls das System, was vorher durch \\(x\\) und \\(y\\) beschrieben wurde mit zwei generalisierten Koordinaten \\(q_1, q_2\\) beschrieben wird."
   ]
  },
  {
   "cell_type": "markdown",
   "id": "527979bb",
   "metadata": {},
   "source": []
  },
  {
   "cell_type": "markdown",
   "id": "49f85ae7",
   "metadata": {},
   "source": [
    ">d) Stellen Sie die Lagrange-Funktion \\(L = T - V\\) in den generalisierten Koordinaten auf"
   ]
  },
  {
   "cell_type": "markdown",
   "id": "a6785340",
   "metadata": {},
   "source": []
  },
  {
   "cell_type": "markdown",
   "id": "01b03623",
   "metadata": {},
   "source": [
    ">e) Leiten sie daraus die Bewegungsgleichungen in den generalisierten Koordinaten \\(q_j\\) ab mithilfe des Lagranges 2.Art:\n",
    "$$\n",
    "\\begin{align*}\n",
    "    \\frac{d}{dt}\\frac{\\partial L}{\\partial \\dot q_j} - \\frac{\\partial L}{\\partial q_j} = 0\n",
    "\\end{align*}\n",
    "$$"
   ]
  },
  {
   "cell_type": "markdown",
   "id": "5719aff8",
   "metadata": {},
   "source": []
  },
  {
   "cell_type": "markdown",
   "id": "3c0f4b45",
   "metadata": {},
   "source": [
    ">1) Ebenes Pendel der Masse $m$ und Länge $l$ im Schwerefeld  \n",
    "![alt text](pendel.png \"title\")\n",
    "Benutzen Sie Polarkoordinaten. Hierbei wird der Ortsvektor und seine Geschwindigkeit\n",
    "transformiert zu\n",
    "$$\n",
    "\\begin{align*}\n",
    "  \\vec r = \\begin{pmatrix} x \\\\ y \\end{pmatrix}\n",
    "  = \\begin{pmatrix} r \\cos \\varphi \\\\ r \\sin \\varphi \\end{pmatrix}\n",
    "\\end{align*}\n",
    "$$\n",
    "Daraus ergibt sich der Betrag der Geschwindigkeit zu\n",
    "$$\n",
    "\\begin{align*}\n",
    "    v = |\\dot{\\vec r}| = \\sqrt{\\dot r^2 + r^2 \\dot \\phi^2}\n",
    "\\end{align*}\n",
    "$$"
   ]
  },
  {
   "cell_type": "markdown",
   "id": "e3949ecc",
   "metadata": {},
   "source": []
  },
  {
   "cell_type": "markdown",
   "id": "dda9661f",
   "metadata": {},
   "source": [
    ">2) Ebenes Pendel der Masse \\(m_2\\) im Schwerefeld, dessen Aufhängepunkt der Masse \\(m_1\\) sich\n",
    "  reibungsfrei entlang der y-Achse bewegen kann.\n",
    "![alt text](pendel2.png \"pendel\")\n",
    "Benutzen Sie \\(y_1\\) und auch hier wieder einen der beiden Polaroordinaten als generalisierte Koordinaten.\n",
    "Beachten Sie, dass sich die Geschwindigkeit des zweiten Punkts aus $(v_2^2 = \\dot x_2^2 + \\dot y_2^2)$ ergibt und beachten Sie die Kettenregel!"
   ]
  },
  {
   "cell_type": "markdown",
   "id": "a50b3fc1",
   "metadata": {},
   "source": []
  },
  {
   "cell_type": "markdown",
   "id": "ceb0c004",
   "metadata": {},
   "source": [
    "### A11.2 (Wassertropfen) (6 Punkte)  \n",
    "\n",
    "Wir gehen davon aus, dass ein Wassertropfen die Form einer Kugel besitzt. Ferner soll gelten, dass beim Fall des Tropfens die Verdunstungsmenge proportional zu seiner Oberfläche ist. Auch gilt, dass die Veränderung des Volumens proportional zur Kugeloberfläche ist.\n",
    "Es gilt\n",
    "$$\n",
    "\\begin{align*}\n",
    "    \\text{Kugeloberfläche: } O = 4\\pi r^2, \\mspace{18mu}\n",
    "    \\text{Kugelvolumen: } V = \\frac{4\\pi}{3}r^3.\n",
    "\\end{align*}\n",
    "$$\n",
    "\n",
    ">a) Stellen Sie die DGL auf, welche die zeitliche Veränderung des Volumens eines fallenden Wassertropfens modeliert. Charakterisieren Sie die gefundene Differentialgleichung. Mit welchen Lösungsmethoden lässt sich diese lösen?"
   ]
  },
  {
   "cell_type": "markdown",
   "id": "c156e1f3",
   "metadata": {},
   "source": []
  },
  {
   "cell_type": "markdown",
   "id": "b81d4b6c",
   "metadata": {},
   "source": [
    ">b) Bestimmen Sie den zeitabhängigen Radius $r(t)$. Gehen Sie hierbei davon aus, dass der Radius des Wassertropfens zu Beginn 4 mm ist und nach 5 Sekunden 3 mm."
   ]
  },
  {
   "cell_type": "markdown",
   "id": "29991b0b",
   "metadata": {},
   "source": []
  },
  {
   "cell_type": "markdown",
   "id": "0d025581",
   "metadata": {},
   "source": [
    ">c) Wie lange dauert es, bis der Wassertropfen nur noch 1\\% seiner anfänglichen Masse hat?"
   ]
  },
  {
   "cell_type": "markdown",
   "id": "8d9008d0",
   "metadata": {},
   "source": []
  },
  {
   "cell_type": "markdown",
   "id": "ab4a66dc",
   "metadata": {},
   "source": [
    ">d) Nehmen Sie an, der Tropfen verdampfe um so schneller, je kleiner der Radius ist. Modellieren\n",
    "Sie dies mit einer Verdunstungsrate $\\gamma=\\frac{\\kappa\\cdot R_0}{r(t)}$, die umgekehrt proportional zum Radius ist. "
   ]
  },
  {
   "cell_type": "markdown",
   "id": "ba55d75a",
   "metadata": {},
   "source": []
  },
  {
   "cell_type": "markdown",
   "id": "456cdcae",
   "metadata": {},
   "source": [
    "### Aufgabe P11 (Wassertropfen) (4 Punkte)\n",
    "\n",
    ">a) Stellen Sie den Radius des Tropfens als Funktion der Zeit $t$ grafisch mittels <code>matplotlib</code> dar. Benutzen Sie hierfür entweder <code>scipy.solve_ivp</code> oder implementieren Sie Ihre Lösungsfunktion direkt."
   ]
  },
  {
   "cell_type": "code",
   "execution_count": null,
   "id": "6038265c",
   "metadata": {},
   "outputs": [],
   "source": []
  },
  {
   "cell_type": "markdown",
   "id": "1c2b2afb",
   "metadata": {},
   "source": [
    ">b) Erstellen Sie einen weiteren Plot, in welchem Sie das erweiterte Modell (A11 d) zusammen mit dem einfachen (A11 b) graphisch vergleichen."
   ]
  },
  {
   "cell_type": "code",
   "execution_count": null,
   "id": "07c1f018",
   "metadata": {},
   "outputs": [],
   "source": []
  },
  {
   "cell_type": "markdown",
   "id": "5ae1f23f",
   "metadata": {},
   "source": [
    "<font color=red>{Hinweis}: Sollten Sie nicht in der Lage gewesen sein, die DGL aufzustellen können Sie für die Aufgabe P1 folgende DGL verwenden: \\textcolor{red}{Hier müssen wir noch Kompromiss finden. Fertige DGL kann man ja net angeben weil die das sonst 1:1 für die Abfrage übernehmen können! Wir könnten Talorpolynom der Funktion angeben als Code Vorlage und die verwenden dann das (J.T.)<font>"
   ]
  }
 ],
 "metadata": {
  "kernelspec": {
   "display_name": "Python 3 (ipykernel)",
   "language": "python",
   "name": "python3"
  },
  "language_info": {
   "codemirror_mode": {
    "name": "ipython",
    "version": 3
   },
   "file_extension": ".py",
   "mimetype": "text/x-python",
   "name": "python",
   "nbconvert_exporter": "python",
   "pygments_lexer": "ipython3",
   "version": "3.12.3"
  }
 },
 "nbformat": 4,
 "nbformat_minor": 5
}
