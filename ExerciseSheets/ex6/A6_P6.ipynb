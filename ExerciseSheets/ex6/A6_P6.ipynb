{
 "cells": [
  {
   "cell_type": "code",
   "execution_count": 5,
   "id": "fc556ae4",
   "metadata": {},
   "outputs": [],
   "source": [
    "import numpy as np\n",
    "import matplotlib.pyplot as plt\n",
    "from scipy.integrate import solve_ivp\n",
    "from matplotlib.gridspec import GridSpec\n",
    "from scipy.interpolate import approximate_taylor_polynomial as atp"
   ]
  },
  {
   "cell_type": "markdown",
   "id": "4d86a3ca",
   "metadata": {},
   "source": [
    "### Aufgabe A6 (2-3-2-3 Punkte)\n",
    "Lösen Sie die folgenden Aufgaben analytisch per Hand.  \n",
    "\n",
    "a) Bestimmen Sie die Taylorentwicklung der Funktion $f(t) = 3\\cdot \\sin(2t) + 3t$ bis zum Grad 3 am Punkt $t = \\dfrac{\\pi}{2}$.  "
   ]
  },
  {
   "cell_type": "code",
   "execution_count": null,
   "id": "408e3f5e",
   "metadata": {},
   "outputs": [],
   "source": []
  },
  {
   "cell_type": "markdown",
   "id": "86d7038f",
   "metadata": {},
   "source": [
    "b) Bestimmen Sie die Laplace Transformierten von folgenden Funktionen. Sie dürfen dabei auf die Ergebnisse von bekannten (Rück-)transformationen zurückgreifen.  \n",
    ">i. $f(t) = 3t^3+2t^2+1$  \n",
    ">ii. $f(t) = e^t \\cdot (4+t^2)$  \n",
    ">iii. $f(t) = {\\displaystyle \\int_{0}^{t} \\sin(u)~du}$  "
   ]
  },
  {
   "cell_type": "code",
   "execution_count": null,
   "id": "65c9cf2b",
   "metadata": {},
   "outputs": [],
   "source": []
  },
  {
   "cell_type": "markdown",
   "id": "742d40b0",
   "metadata": {},
   "source": [
    ">c) Bestimmen Sie das die inverse Laplace-Transformierte der Funktion  \n",
    "$F(s) = \\dfrac{1}{s^2-4s+5}$.  \n",
    "\n",
    "**Tipp 1** Nutzen Sie aus, dass eine Verschiebung im Frequenzbereich einer Dämpfung im Zeitbereich entspricht.  \n",
    "    \n",
    "**Tipp 2** Fassen Sie das Polynom (durch quadratische Ergänzung) zusammen.}\n",
    "    \\item Finden Sie mit Hilfe der Laplace-Transformation eine Lösung des Anfangswertproblems: $\\ddot{x}+3\\dot{x} = 5, x(0)=1, \\dot x(0) = 0.$  \n",
    "**Tipp 1** Versuchen Sie also F(s) in eine Form zu bringen, welche Sie aus einer Tabelle \n",
    "    aus bekannten Rücktransformationen entnehmen können.  \n",
    "**Tipp 3** Benutzen Sie Partialbruchzerlegung.  \n"
   ]
  },
  {
   "cell_type": "code",
   "execution_count": null,
   "id": "242895ac",
   "metadata": {},
   "outputs": [],
   "source": []
  },
  {
   "cell_type": "markdown",
   "id": "7f1a3ba1",
   "metadata": {},
   "source": [
    "### Aufgabe P6 (5-5 Punkte)\n",
    "a) Stellen Sie Ihr berechnetes Taylorpolynom 3. Grades der Funktion $f(t) = 3\\cdot \\sin(2t) + 3t$ am Punkt $t~=~\\dfrac{\\pi}{2}$ zusammen mit der ursprünglichen Funktion im Intervall $0 \\le t \\le 3$ mittels <code>matplotlib</code> grafisch dar. Benutzen Sie hierzu drei <code>subplots</code>. Im ersten Subplot (links oben) soll der Graph der Funktion $f(t)$ abgebildet sein, im zweiten (rechts oben) Ihr Taylorpolynom $\\mathrm{P}_3(t)$ und im dritten die Differenz $f(t)-\\mathrm{P}_3(t)$. Ihr Endergebnis sollte im Bezug auf die Anordnung dem Beispiel in \\autoref{fig:myplot} gleichen. Diese zeigt die Funktion $b(t) = x^3+2x$ und das dazugehörige Taylorpolynoms  \n",
    "$P_3(t)~=~3+5(x-1)+3(x-1)^2$.  "
   ]
  },
  {
   "cell_type": "code",
   "execution_count": null,
   "id": "7a22aacc",
   "metadata": {},
   "outputs": [],
   "source": []
  },
  {
   "cell_type": "markdown",
   "id": "5870e047",
   "metadata": {},
   "source": [
    "b) Erstellen Sie den Plot des Taylorpolynoms erneut. Diesmal soll jedoch statt dem händisch berechneten Taylor-Polynom die Funktion <code>approximate_taylor_polynomial</code> von <code>scipy</code> verwendet werden. Eine Dokumentation mit Codebeispiel finden Sie <a href=\"https://docs.scipy.org/doc/scipy/reference/generated/scipy.interpolate.approximate_taylor_polynomial.html\">hier</a>."
   ]
  },
  {
   "cell_type": "markdown",
   "id": "67441380",
   "metadata": {},
   "source": [
    "Beispielhafter Plot der Funktion $b(t)$ und des dazugehörigen Taylorpolynoms dritten Grades $P_3(t)$.\n",
    "![alt text](fig2.png \"Title\")"
   ]
  },
  {
   "cell_type": "code",
   "execution_count": null,
   "id": "49e1ee5f",
   "metadata": {},
   "outputs": [],
   "source": []
  }
 ],
 "metadata": {
  "kernelspec": {
   "display_name": "Python 3 (ipykernel)",
   "language": "python",
   "name": "python3"
  },
  "language_info": {
   "codemirror_mode": {
    "name": "ipython",
    "version": 3
   },
   "file_extension": ".py",
   "mimetype": "text/x-python",
   "name": "python",
   "nbconvert_exporter": "python",
   "pygments_lexer": "ipython3",
   "version": "3.12.3"
  }
 },
 "nbformat": 4,
 "nbformat_minor": 5
}
