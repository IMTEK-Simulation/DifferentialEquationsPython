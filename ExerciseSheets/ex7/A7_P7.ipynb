{
 "cells": [
  {
   "cell_type": "code",
   "execution_count": 3,
   "id": "253a1369",
   "metadata": {},
   "outputs": [],
   "source": [
    "import numpy as np\n",
    "import matplotlib.pyplot as plt\n",
    "from scipy.integrate import solve_ivp"
   ]
  },
  {
   "cell_type": "markdown",
   "id": "128ce03f",
   "metadata": {},
   "source": [
    "### Aufgabe A7 (5-5 Punkte)\n",
    ">a) Berechnen Sie die Fouriereihe $ f(t) = \\sum_{n=-\\infty}^\\infty \\hat{f}_{\\omega_n} e^{i \\omega_n t} $  \n",
    "(Siehe Skript) für die in der unten dargestellte Sägezahn-Spannung mit Periode $ T $ und Amplitude $ A $ und geben Sie die komplexen Fourierkoeffizienten an.  \n",
    "$$\n",
    "\\begin{equation}\n",
    "    f(t) = \\frac{A}{T} t \\qquad t \\in [0,T)\n",
    "\\end{equation}\n",
    "$$\n",
    "\n",
    "**Abbildung:** Sägezahn Funktion\n",
    "![alt text](sawtooth.png \"Title\")\n",
    "**Optional:**\n",
    "Veranschaulichen Sie sich ihr Ergebnis grafisch mit dem Code-Snippet <code>sawtooth_exp.py</code>."
   ]
  },
  {
   "cell_type": "markdown",
   "id": "7286c0b4",
   "metadata": {},
   "source": []
  },
  {
   "cell_type": "markdown",
   "id": "715cc140",
   "metadata": {},
   "source": [
    ">b)   Betrachten Sie das Signal $f(t)$ in der Abbildung: Gemessenes Signal.  \n",
    "    >> i. Stellen Sie zunächst anhand der Abbildung \"Gemessenes Signal\" eine Funktionsgleichung auf, welche den Verlauf des Signals modelliert (Tipp: Abschnittsweise definieren).  \n",
    "    >> ii. Berechnen Sie die Fourrier-Koeffizienten $a_0$, $a_n$ und $b_n$ der Fourier-Reihe  \n",
    "$f(t) = \\frac{a_0}{2} + \\sum_{n=1}^{\\infty} \\left(a_n \\cos(\\omega_n t) + b_n \\sin(\\omega_n t)\\right)$ \n",
    "dieser Funktion.  \n",
    "**Abbildung:** Gemessenes Signal\n",
    "![alt text](fourier_sig.png \"signal_fourier\")"
   ]
  },
  {
   "cell_type": "markdown",
   "id": "44bcbf5e",
   "metadata": {},
   "source": []
  },
  {
   "cell_type": "markdown",
   "id": "4492efc5",
   "metadata": {},
   "source": [
    "### Aufgabe P7 (10 Punkte)\n",
    " \n",
    "Wir betrachten einen nicht belasteten Tiefpass. Wie der Name schon verrät dient dieser dazu nur tiefe (niedrige) Frequenzen durchzulassen und hohe Frequenzen herauszufiltern.\n",
    " \\(Ue\\) beschreibt die Eingangsspannung, \\(R\\) einen Widerstand, \\(C\\) eine Kapazität eines Kondensators und \\(Ua\\) die Ausgangspannung."
   ]
  },
  {
   "cell_type": "markdown",
   "id": "6b2cda13",
   "metadata": {},
   "source": [
    "**Abbildung:** Tiefpass Schaltbild\n",
    "![alt text](Tiefpass.svg.png \"title\")"
   ]
  },
  {
   "cell_type": "markdown",
   "id": "c942ffe2",
   "metadata": {},
   "source": [
    " Da dies die Programmieraufgabe ist, übernehmen wir den analytischen Teil diesmal, halten ihn allerdings sehr kurz, um uns auf Programmieren zu konzentrieren. Mit der Maschenregel gilt\n",
    "$$\n",
    "\\begin{align*}\n",
    "  U_e + U_R + U_C = 0,   \n",
    "\\end{align*}\n",
    "$$\n",
    "und durch $(U_R= R \\cdot I_R )$ und $(I_R = I_C = C \\dot U_C)$ (im unbelasteten Fall) und $(U_C = U_a)$ erhalten wir die schöne DGL\n",
    "$$\n",
    "\\begin{align*}\n",
    "    RC \\cdot \\dot U_a(t) + U_a(t) = U_e(t)\n",
    "\\end{align*}\n",
    "$$\n",
    "Wenn wir die Spannungen im Zeitbereich fouriertransformieren in den Frequenzbereich erhalten wir dagegen eine algebraische Gleichung\n",
    "$$\n",
    "\\begin{align*}\n",
    "    RC \\cdot (i \\omega) \\tilde{U_a}(\\omega) + \\tilde{U_a}(\\omega) \n",
    "    = \\tilde{U_e}(\\omega) \\\\\n",
    "    \\Longleftrightarrow \\tilde{U_a}(\\omega) = \\frac{\\tilde{U_e}(\\omega)}{1 + i \\omega RC}\n",
    "    \\equiv G(\\omega) \\tilde{U_e}(\\omega)\n",
    "\\end{align*}\n",
    "$$\n",
    "Wir müssen also im Frequenzbereich nur die Eingangsfrequenzen mit dem Übertragungsfunktion \\(G(\\omega)\\) multiplizieren und dann das Ergebnis zurücktransformieren. Das wollen wir jetzt mithilfe des \\texttt{np.fft} Moduls tun.\n",
    "\n",
    "Als Eingangssignal benutzen wir  \n",
    "<code>def box(t):                     # Input signal\n",
    "    # T = 1 Period\n",
    "    return np.where(t % 1 > 1 / 2, 1, 0)\n",
    "</code>\n",
    "\n",
    "Und für $(R C = 1).$ "
   ]
  },
  {
   "cell_type": "markdown",
   "id": "82228f62",
   "metadata": {},
   "source": [
    ">a) Implementieren sie die Übertragungsfunktion $(G(\\omega))$  "
   ]
  },
  {
   "cell_type": "code",
   "execution_count": null,
   "id": "d51ed7d9",
   "metadata": {},
   "outputs": [],
   "source": []
  },
  {
   "cell_type": "markdown",
   "id": "8852314e",
   "metadata": {},
   "source": [
    ">b) Fouriertransformieren Sie die Eingangsspannung $(U_e(t))$ und berechnen sie die dazugehörigen Frequenzen"
   ]
  },
  {
   "cell_type": "code",
   "execution_count": null,
   "id": "c6b87716",
   "metadata": {},
   "outputs": [],
   "source": []
  },
  {
   "cell_type": "markdown",
   "id": "176109ff",
   "metadata": {},
   "source": [
    ">c) Wenden Sie die Übertragungsfunktion $(G(\\omega))$ auf die Fouriertransformierte an und rücktransformieren Sie das Ergebnis"
   ]
  },
  {
   "cell_type": "code",
   "execution_count": null,
   "id": "3de38909",
   "metadata": {},
   "outputs": [],
   "source": []
  },
  {
   "cell_type": "markdown",
   "id": "faba78d6",
   "metadata": {},
   "source": [
    ">d) Plotten Sie das Eingangssignal gegen das Ausgangssignal"
   ]
  },
  {
   "cell_type": "code",
   "execution_count": null,
   "id": "8e95ca5d",
   "metadata": {},
   "outputs": [],
   "source": []
  },
  {
   "cell_type": "markdown",
   "id": "62556067",
   "metadata": {},
   "source": [
    ">e) Was fehlt noch, um eine vollständige Lösung der DGL anzugeben, um auch die Anfangsbedingung $(U_a(0) = U_0)$ zu erfüllen?"
   ]
  },
  {
   "cell_type": "code",
   "execution_count": null,
   "id": "1b94d08e",
   "metadata": {},
   "outputs": [],
   "source": []
  }
 ],
 "metadata": {
  "kernelspec": {
   "display_name": "Python 3 (ipykernel)",
   "language": "python",
   "name": "python3"
  },
  "language_info": {
   "codemirror_mode": {
    "name": "ipython",
    "version": 3
   },
   "file_extension": ".py",
   "mimetype": "text/x-python",
   "name": "python",
   "nbconvert_exporter": "python",
   "pygments_lexer": "ipython3",
   "version": "3.12.3"
  }
 },
 "nbformat": 4,
 "nbformat_minor": 5
}
