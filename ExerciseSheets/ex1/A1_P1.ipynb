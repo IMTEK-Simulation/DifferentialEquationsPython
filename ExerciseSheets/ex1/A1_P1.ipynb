{
 "cells": [
  {
   "cell_type": "code",
   "execution_count": 1,
   "id": "08cc7c9f",
   "metadata": {},
   "outputs": [],
   "source": [
    "import numpy as np\n",
    "import matplotlib.pyplot as plt"
   ]
  },
  {
   "cell_type": "markdown",
   "id": "f6353841",
   "metadata": {},
   "source": [
    " ## Aufgabe A1 (3+3+3+1 Punkte)  \n",
    "Gegeben seien die Matrizen  \n",
    "$$A = \\begin{pmatrix}\n",
    "    2 & -3 & 0 \\\\\n",
    "    3 & 2 & 0 \\\\\n",
    "    0 & 0 & -1\n",
    "\\end{pmatrix}$$  \n",
    "und $$B = \\begin{pmatrix}\n",
    "    1 & 2 & 3 \\\\\n",
    "    4 & 5 & 6 \\\\\n",
    "    7 & 8 & 9\n",
    "\\end{pmatrix}$$\n",
    "\n",
    "Bitte schreiben sie Ihre Lösungen für den Analytischen teil direkt hier im Notebook!  \n",
    "Benutzen sie dafür LaTex in Markdowns. Eine Anleitung dazu finden sie unter:\n",
    "\n",
    "**Beachten sie hierbei** <font color='red'>diese Art der Abgabe werden wir für alle Übungsblätter und die Klausur benutzen!  \n",
    "Machen sie sich am besten gleich damit vertraut.</font>\n"
   ]
  },
  {
   "cell_type": "markdown",
   "id": "8568ab9f",
   "metadata": {},
   "source": [
    "1. Berechnen Sie (mit einer Methode Ihrer Wahl) die Determinanten der Matrizen.</li>"
   ]
  },
  {
   "cell_type": "markdown",
   "id": "3c82785a",
   "metadata": {},
   "source": []
  },
  {
   "cell_type": "markdown",
   "id": "50263f77",
   "metadata": {},
   "source": [
    "2. Berechnen Sie die Inverse zu $A$.</li>"
   ]
  },
  {
   "cell_type": "markdown",
   "id": "bb0baed5",
   "metadata": {},
   "source": []
  },
  {
   "cell_type": "markdown",
   "id": "9b7c049f",
   "metadata": {},
   "source": [
    "3. Berechnen Sie alle Eigenwerte und die dazugehörigen Eigenvektoren von $A$.</li>\n"
   ]
  },
  {
   "cell_type": "markdown",
   "id": "2cff2786",
   "metadata": {},
   "source": []
  },
  {
   "cell_type": "markdown",
   "id": "3e70f624",
   "metadata": {},
   "source": [
    "4. Zeichnen Sie die Eigenwerte von A in die komplexe Ebene per Hand und laden Sie ein Foto davon in den entsprechenden Ordner auf Ilias hoch.</li>\n"
   ]
  },
  {
   "cell_type": "markdown",
   "id": "6851292f",
   "metadata": {},
   "source": []
  },
  {
   "cell_type": "markdown",
   "id": "eed15356",
   "metadata": {},
   "source": [
    "## Aufgabe P1  \n",
    "<ol><li> Machen Sie sich mit numpy vertraut. Erzeugen Sie die Matrizen $M_i, i \\in [1; 3]$ mittels der von numpy zur Verfügung gestellten Funktionen. Geben Sie nicht alle Elemente einzeln an!\n",
    "\n",
    "\n",
    "$$M1 = \\begin{pmatrix}\n",
    "1 & 1 & 1\\\\\n",
    "1 & 1 & 1\\\\\n",
    "1 & 1 & 1\n",
    "\\end{pmatrix}$$\n",
    "\n",
    "$$M2 = \\begin{pmatrix}\n",
    "1 & 0 & 0\\\\\n",
    "0 & 2 & 0\\\\\n",
    "0 & 0 & 3\n",
    "\\end{pmatrix}$$\n",
    "\n",
    "$$M3 = \\begin{pmatrix}\n",
    "2 & 4 & 6 \\\\\n",
    "8 & 10 & 12 \\\\\n",
    "14 & 16 & 18 \n",
    "\\end{pmatrix}$$</li>\n",
    "<li>Berechnen Sie mittels numpy die Determinanten der Matrizen A und B aus A1 und geben Sie diese in der Konsole aus.</li>\n",
    "<li>Berechnen Sie mittels numpy die Inverse der Matrizen, sofern diese existieren, und geben Sie diese in der Konsole aus.</li>\n",
    "<li>Berechnen Sie mittels numpy die Eigenwerte von A und visualisieren sie diese mittels matplotlib in einem Koordinatensystem mit aussagekr ̈aftigen Beschriftungen. Die Eigenwerte sollen hierbei in der Variable eig_vals und die Eigenvektoren in eig_vects gespeichert werden.\n",
    "</li>\n",
    "\n",
    "\n",
    "tipp: Separieren Sie die Realteile und Imaginärteile z.B. mittels\n",
    "<code>\n",
    "realteile = np . real ( eig_val )\n",
    "imaginaerteile = np . imag ( eig_val )\n",
    "</code>  \n",
    "und plotten Sie die Daten mittels plt.scatter.\n"
   ]
  },
  {
   "cell_type": "code",
   "execution_count": 9,
   "id": "97180408",
   "metadata": {},
   "outputs": [],
   "source": [
    "## hier eine kleine Hilfestellung zur schöneren ausgabe:\n",
    "def print_determinant(det: int):\n",
    "    print(\"det: {0:.0f}\".format(det))\n",
    "\n",
    "\n",
    "def print_formatted_matrix(m):\n",
    "    with np.printoptions(precision=2, suppress=True):\n",
    "        print(m)"
   ]
  },
  {
   "cell_type": "code",
   "execution_count": null,
   "id": "66eb9ec0",
   "metadata": {},
   "outputs": [],
   "source": [
    "## Hier kommen Ihre Lösungen\n",
    "# a) ##########################################################################\n",
    "M1 = pass\n",
    "M2 = pass\n",
    "M3 = pass"
   ]
  },
  {
   "cell_type": "code",
   "execution_count": null,
   "id": "4c036fd7",
   "metadata": {},
   "outputs": [],
   "source": [
    "# b) ##########################################################################\n",
    "\n",
    "A1 = pass\n",
    "A2 = pass\n",
    "A1_D = pass\n",
    "A2_D = pass\n",
    "# Beachten sie: Matrizen A, B aus dem numerischen Teil!"
   ]
  },
  {
   "cell_type": "code",
   "execution_count": null,
   "id": "52303075",
   "metadata": {},
   "outputs": [],
   "source": [
    "# c) ##########################################################################\n",
    "inv_A = pass\n",
    "print_formatted_matrix(inv_A)"
   ]
  },
  {
   "cell_type": "code",
   "execution_count": null,
   "id": "e55b8299",
   "metadata": {},
   "outputs": [],
   "source": [
    "# d) ##########################################################################\n"
   ]
  }
 ],
 "metadata": {
  "kernelspec": {
   "display_name": "Python 3 (ipykernel)",
   "language": "python",
   "name": "python3"
  },
  "language_info": {
   "codemirror_mode": {
    "name": "ipython",
    "version": 3
   },
   "file_extension": ".py",
   "mimetype": "text/x-python",
   "name": "python",
   "nbconvert_exporter": "python",
   "pygments_lexer": "ipython3",
   "version": "3.12.6"
  },
  "widgets": {
   "application/vnd.jupyter.widget-state+json": {
    "state": {},
    "version_major": 2,
    "version_minor": 0
   }
  }
 },
 "nbformat": 4,
 "nbformat_minor": 5
}
