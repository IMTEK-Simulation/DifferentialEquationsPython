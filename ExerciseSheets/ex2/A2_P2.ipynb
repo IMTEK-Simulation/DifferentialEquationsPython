{
 "cells": [
  {
   "cell_type": "code",
   "execution_count": 6,
   "id": "d51459b6",
   "metadata": {},
   "outputs": [],
   "source": [
    "import numpy as np\n",
    "import matplotlib.pyplot as plt\n",
    "from scipy.integrate import solve_ivp"
   ]
  },
  {
   "cell_type": "markdown",
   "id": "7579c4db",
   "metadata": {},
   "source": [
    "### Aufgabe A2 (4-4-2 Punkte)\n",
    "\n",
    "1. Finden Sie allgemeine Lösungen für folgende lineare DGLn durch Integration:  \n",
    "\n",
    "**Beachten sie hierbei** <font color='red'>diese Art der Abgabe werden wir für alle Übungsblätter und die Klausur benutzen!  \n",
    "Machen sie sich am besten gleich damit vertraut.</font>\n",
    "\n",
    "\n",
    "\n",
    "> i. $\\dot{\\mathrm{x}}(t) = 5$  \n"
   ]
  },
  {
   "cell_type": "markdown",
   "id": "c6cff176",
   "metadata": {},
   "source": []
  },
  {
   "cell_type": "markdown",
   "id": "1c5657a3",
   "metadata": {},
   "source": [
    ">ii. $\\dot{\\mathrm{x}}(t) = 5t$  \n"
   ]
  },
  {
   "cell_type": "markdown",
   "id": "06d1d6af",
   "metadata": {},
   "source": []
  },
  {
   "cell_type": "markdown",
   "id": "dcfb7f15",
   "metadata": {},
   "source": [
    "> iii. $\\dot{\\mathrm{x}}(t) = \\cos(t)$  \n",
    "    "
   ]
  },
  {
   "cell_type": "markdown",
   "id": "7e5f23ab",
   "metadata": {},
   "source": []
  },
  {
   "cell_type": "markdown",
   "id": "355097ee",
   "metadata": {},
   "source": [
    "> iv. $\\dot{\\mathrm{x}}(t) = \\mathrm{x}(t)$  \n"
   ]
  },
  {
   "cell_type": "markdown",
   "id": "281b7838",
   "metadata": {},
   "source": []
  },
  {
   "cell_type": "markdown",
   "id": "a79f53b1",
   "metadata": {},
   "source": [
    "2. Was ist der Wert von $\\mathrm{x}(1)$ der Lösung der DGL $\\dot{\\mathrm{x}}(t) = \\mathrm{x}(t)$ mit dem Anfangswert $x(0) = x_0 = 0$? Was ist der Wert von $\\mathrm{x}(1)$ wenn $x_0 = 0.01$ ?  \n",
    "\n",
    "    Optional: Plotten sie $\\mathrm{x}(t)$ für die Anfangsbedingung $x_0 = 0.01$.  \n"
   ]
  },
  {
   "cell_type": "markdown",
   "id": "9f776a34",
   "metadata": {},
   "source": []
  },
  {
   "cell_type": "markdown",
   "id": "689ba6a2",
   "metadata": {},
   "source": [
    "3. Wir wissen, dass der Windwiderstand eines Objektes proportional zum Quadrat der Geschwindigkeit mit negativem Koeffizienten $c$ ist. Stellen Sie die Gleichung für die zeitliche Veränderung der Geschwindigkeit auf und berechnen Sie die analytische Lösung."
   ]
  },
  {
   "cell_type": "markdown",
   "id": "fbccfc29",
   "metadata": {},
   "source": []
  },
  {
   "cell_type": "markdown",
   "id": "94d0991a",
   "metadata": {},
   "source": [
    "### Aufgabe P2 (4-4-2 Punkte)  \n",
    "1. Lösen Sie wie in der Vorlesung gezeigt die DGL $\\dot{\\mathrm{x}}(t) = \\mathrm{x}(t), x_0 = 0.01$ numerisch mit <code>scipy.solve_ivp</code> im Intervall $0 \\le t \\le 10$.  \n",
    "\n",
    "2. Was ist der Wert von $x(1)$? Speichern Sie den Wert in der Variable <code>x_1_value</code> und vergleichen Sie diesen mit dem zuvor von Ihnen berechneten Wert.  \n",
    "Tipp: Den Index des x-Wert der am nächsten an $1$ liegt erhalten Sie z.B. mittels\n",
    "<code>np.abs(t_values-1.0).argmin()</code>.  \n",
    "\n",
    "3. Stellen Sie die Lösung der DGL im Intervall $0 \\le t \\le 10$ mittels \\verb|matplotlib| grafisch dar. \\\\Benutzen Sie hierbei <code>t_eval=np.linspace(t_start,t_end,10000)</code>. "
   ]
  },
  {
   "cell_type": "code",
   "execution_count": null,
   "id": "cd3234fa",
   "metadata": {},
   "outputs": [],
   "source": []
  }
 ],
 "metadata": {
  "kernelspec": {
   "display_name": "Python 3 (ipykernel)",
   "language": "python",
   "name": "python3"
  },
  "language_info": {
   "codemirror_mode": {
    "name": "ipython",
    "version": 3
   },
   "file_extension": ".py",
   "mimetype": "text/x-python",
   "name": "python",
   "nbconvert_exporter": "python",
   "pygments_lexer": "ipython3",
   "version": "3.12.6"
  },
  "widgets": {
   "application/vnd.jupyter.widget-state+json": {
    "state": {},
    "version_major": 2,
    "version_minor": 0
   }
  }
 },
 "nbformat": 4,
 "nbformat_minor": 5
}
