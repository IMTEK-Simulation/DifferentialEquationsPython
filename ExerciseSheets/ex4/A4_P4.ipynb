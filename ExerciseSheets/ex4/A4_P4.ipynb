{
 "cells": [
  {
   "cell_type": "code",
   "execution_count": 10,
   "id": "d51459b6",
   "metadata": {},
   "outputs": [],
   "source": [
    "import numpy as np\n",
    "import matplotlib.pyplot as plt\n",
    "from scipy.integrate import solve_ivp"
   ]
  },
  {
   "cell_type": "markdown",
   "id": "7579c4db",
   "metadata": {},
   "source": [
    "### Aufgabe A4 (7-7 Punkte)\n",
    "\n",
    "Der gedämpfte, getriebene harmonische Oszillator wird durch folgende DGL beschrieben: \n",
    "$ m \\dfrac{d^2x}{dt^2} + c\\cdot\\dfrac{dx}{dt} + k\\cdot x = F(t)$  \n",
    "mit einer Masse von 1.5 kg, einer Federkonstante von 3$~\\text{Nm}^{-1}$, einem Dämpfungskoeffizienten von 0.4 kg/s und eine treibende Kraft von 8 sin(2t) N.  \n",
    "\n",
    "**Beachten sie hierbei** <font color='red'>diese Art der Abgabe werden wir für alle Übungsblätter und die Klausur benutzen!  \n",
    "Machen sie sich am besten gleich damit vertraut.</font>\n"
   ]
  },
  {
   "cell_type": "markdown",
   "id": "15e76e3a",
   "metadata": {},
   "source": [
    "   >i. Bestimmen sie die allgemeine Lösung der oben gegebenen DGL. Formen Sie dazu die Gleichung aber um zu\n",
    "     $\\quad \\ddot{x} + 2\\gamma\\cdot\\dot{x} + \\omega_0^2\\cdot x = P(t)$  \n",
    "     Setzen Sie für die allgemeine Lösung m, c, k und F(t) nicht ein.  \n"
   ]
  },
  {
   "cell_type": "markdown",
   "id": "7a8631db",
   "metadata": {},
   "source": []
  },
  {
   "cell_type": "markdown",
   "id": "b0712d6c",
   "metadata": {},
   "source": [
    "   >ii. Bestimmen sie x(t) mit den Anfangsbedingungen \n",
    "    $ x(0) = x_0 = 0.26~\\text{m}~$ und $~\\dot x(0) = v_0 = -0.6~\\text{ms}^{-1}.$"
   ]
  },
  {
   "cell_type": "markdown",
   "id": "fddc8f12",
   "metadata": {},
   "source": []
  },
  {
   "cell_type": "markdown",
   "id": "94d0991a",
   "metadata": {},
   "source": [
    "### Aufgabe P4 (6 Punkte)  \n",
    "   \n",
    "Vergleichen Sie ihre analytische Lösung numerisch mit \\verb|scipy.solve_ivp|.\n",
    "\n",
    "   >i. Plotten Sie die Auslenkung des harmonischen Oszillators $x(t)$ im Intervall $t \\in {[0 < t < 10]}$ für die numerische und analytische Lösung.   "
   ]
  },
  {
   "cell_type": "code",
   "execution_count": null,
   "id": "cd3234fa",
   "metadata": {},
   "outputs": [],
   "source": []
  },
  {
   "cell_type": "markdown",
   "id": "d729798d",
   "metadata": {},
   "source": [
    "   >ii. Plotten Sie die Geschtwingigkeit "
   ]
  },
  {
   "cell_type": "code",
   "execution_count": null,
   "id": "788773b2",
   "metadata": {},
   "outputs": [],
   "source": []
  },
  {
   "cell_type": "markdown",
   "id": "630210cf",
   "metadata": {},
   "source": [
    "   >iii. Plotten Sie die jeweiligen Kräfte (Trägheits, Dämpfung, Federkraft, externe Kraft, also die einzelnen Terme der DGL)  "
   ]
  },
  {
   "cell_type": "code",
   "execution_count": null,
   "id": "4cd4761a",
   "metadata": {},
   "outputs": [],
   "source": []
  }
 ],
 "metadata": {
  "celltoolbar": "Raw Cell Format",
  "kernelspec": {
   "display_name": "Python 3 (ipykernel)",
   "language": "python",
   "name": "python3"
  },
  "language_info": {
   "codemirror_mode": {
    "name": "ipython",
    "version": 3
   },
   "file_extension": ".py",
   "mimetype": "text/x-python",
   "name": "python",
   "nbconvert_exporter": "python",
   "pygments_lexer": "ipython3",
   "version": "3.12.3"
  }
 },
 "nbformat": 4,
 "nbformat_minor": 5
}
