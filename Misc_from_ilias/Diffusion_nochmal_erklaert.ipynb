{
 "cells": [
  {
   "cell_type": "markdown",
   "id": "3b7d9a21",
   "metadata": {},
   "source": [
    "## Diffusion und numerische Ableitungen"
   ]
  },
  {
   "cell_type": "markdown",
   "id": "8a8009a7",
   "metadata": {},
   "source": [
    "Um nochmal auf die numerische Implementierung der Diffusionsgleichung zu erklären, hier nochmal eine Schritt für Schritt Erklärung.\n",
    "Fangen wir an mit der Diffusionsgleichung (erstmal in 1D) an sich:\n",
    "\\begin{align}\n",
    "    \\frac{\\partial u(x, t)}{\\partial t} = a \\frac{\\partial^2 u(x, t)}{\\partial x^2}\n",
    "\\end{align}\n",
    "mit einer Funktion $u(x, t)$ und der Diffusionskonstanten $a$.\n",
    "\n",
    "Wenn wir das nun numerisch ausrechnen wollen, müssen wir immer kleine Zeitschritte berechnen:\n",
    "\\begin{align}\n",
    "    u(x, t + \\Delta t) = u(x, t) + \\frac{\\partial u(x, t)}{\\partial t} \\cdot \\Delta t\n",
    "\\end{align}\n",
    "Die Ableitung nach der Zeit ist nach der Diffusionsgleichung vorgegeben, also müssen wir hier die 2te Ableitung numerisch berechnen.\n",
    "\n",
    "Das tun wir an jedem Punkt in unserem array $a_i$, indem wir folgendes berechnen:\n",
    "\\begin{align}\n",
    "    \\frac{\\Delta^2 a_i}{\\Delta x^2} = \\frac{a_{i-1} - 2 a_i + a_{i+1}}{\\Delta x^2}\n",
    "\\end{align}\n",
    "\n",
    "Das wollen wir jetzt mit _numpy.roll_ machen."
   ]
  },
  {
   "cell_type": "markdown",
   "id": "826a69aa",
   "metadata": {},
   "source": [
    "###  Berechnung der 2ten Ableitung in 1D\n",
    "\n",
    "Wir berechnen die Werte $a_{i-1}$ und $a_{i+1}$ mithilfe von np.roll. Dabei wird das Array jeweils um ein Index verschoben."
   ]
  },
  {
   "cell_type": "markdown",
   "id": "47ead29a",
   "metadata": {},
   "source": [
    "![title](tikzpictures/roll.png)"
   ]
  },
  {
   "cell_type": "markdown",
   "id": "38c3bb87",
   "metadata": {},
   "source": [
    "Das können wir folgendermaßen implementieren (mit der Annahme, dass $\\Delta x = 1$.\n",
    "Vorsicht: roll ist periodisch, dass heißt der letzte Index wird der erste, also Vorsicht am Rand!"
   ]
  },
  {
   "cell_type": "code",
   "execution_count": 62,
   "id": "053a03a4",
   "metadata": {},
   "outputs": [],
   "source": [
    "def second_derivative(a, dx=1):\n",
    "    return (np.roll(a, -1) - 2 * a + np.roll(a, 1)) / dx**2"
   ]
  },
  {
   "cell_type": "markdown",
   "id": "445ffa2c",
   "metadata": {},
   "source": [
    "Das probieren wir mal aus mit der Funktion\n",
    "\\begin{align}\n",
    "    f(x) = 2 x^3\\\\\n",
    "    f'(x) = 6 x^2\\\\\n",
    "    f''(x) = 12 x\n",
    "\\end{align}"
   ]
  },
  {
   "cell_type": "code",
   "execution_count": 63,
   "id": "8327f19c",
   "metadata": {},
   "outputs": [
    {
     "name": "stdout",
     "output_type": "stream",
     "text": [
      "[  0  12  24  36  48  60  72  84  96 108]\n",
      "[ 1460.    12.    24.    36.    48.    60.    72.    84.    96. -1892.]\n",
      "Wo sind sie gleich?\n",
      "[False  True  True  True  True  True  True  True  True False]\n"
     ]
    }
   ],
   "source": [
    "import numpy as np\n",
    "import matplotlib.pyplot as plt\n",
    "x = np.arange(10) # dx = 1\n",
    "fx = 2 * x**3\n",
    "diff2_fx = 12 * x\n",
    "diff2_numerically = second_derivative(fx)\n",
    "\n",
    "# Wertevergleich\n",
    "print(diff2_fx)\n",
    "print(diff2_numerically)\n",
    "\n",
    "# Test: sind sie gleich?\n",
    "print(\"Wo sind sie gleich?\")\n",
    "print(diff2_fx == diff2_numerically)"
   ]
  },
  {
   "cell_type": "markdown",
   "id": "0e51f2cb",
   "metadata": {},
   "source": [
    "Funktioniert also, bis auf die Ränder."
   ]
  },
  {
   "cell_type": "markdown",
   "id": "ae8fa8e7",
   "metadata": {},
   "source": [
    "### Jetzt nochmal zurück zum Hexagonalfeld der Schneeflocke"
   ]
  },
  {
   "cell_type": "markdown",
   "id": "1a461731",
   "metadata": {},
   "source": [
    "Jetzt wollen wir das in das Hexagonalfeld der Schneeflocke übertragen. Dafür müssen wir das, was wir oben in 1D gemacht haben auf das Hexagonalfeld übertragen.\n",
    "\n",
    "Schreiben sie also eine Funktion, die die zweite Ableitung auf dem Hexagonalfeld errechnet."
   ]
  },
  {
   "cell_type": "code",
   "execution_count": 67,
   "id": "2e6f3c1a",
   "metadata": {},
   "outputs": [],
   "source": [
    "def second_derivative_hexagonal(a, dx=1):\n",
    "    \"\"\"\n",
    "    Args:\n",
    "        a : np.array with 2 dimensions\n",
    "    \"\"\"\n",
    "    # Directions of neighbours in the hexagonal grid\n",
    "    dcell = [[-1, -1], [0, -1], [-1, 0], [1, 0], [0, 1], [1, 1]]\n",
    "    return np.zeros((4, 4))"
   ]
  },
  {
   "cell_type": "markdown",
   "id": "734a52c1",
   "metadata": {},
   "source": [
    "Hier könnt ihr eure Funktion testen."
   ]
  },
  {
   "cell_type": "code",
   "execution_count": 68,
   "id": "60c20f13",
   "metadata": {},
   "outputs": [
    {
     "data": {
      "image/png": "[encoded data removed]",
      "text/plain": [
       "<Figure size 432x288 with 2 Axes>"
      ]
     },
     "metadata": {
      "needs_background": "light"
     },
     "output_type": "display_data"
    }
   ],
   "source": [
    "test = np.arange(16).reshape(4, 4)\n",
    "test[1] *= 2\n",
    "test_diff2 = second_derivative_hexagonal(test)\n",
    "\n",
    "fig, ax = plt.subplots(1, 2)\n",
    "\n",
    "for i, arr in enumerate([test, test_diff2]):\n",
    "    im = ax[i].imshow(arr)\n",
    "    # Loop over data dimensions and create text annotations.\n",
    "    for j in range(4):\n",
    "        for k in range(4):\n",
    "            text = ax[i].text(k, j, arr[j, k],\n",
    "                           ha=\"center\", va=\"center\", color=\"w\")\n",
    "plt.show()"
   ]
  },
  {
   "cell_type": "markdown",
   "id": "f491740c",
   "metadata": {},
   "source": [
    "Sollte diese richtig sein, sollte es folgendes Feld ergeben:"
   ]
  },
  {
   "cell_type": "code",
   "execution_count": 69,
   "id": "8556b31d",
   "metadata": {},
   "outputs": [
    {
     "data": {
      "image/png": "[encoded data removed]",
      "text/plain": [
       "<Figure size 432x288 with 2 Axes>"
      ]
     },
     "metadata": {
      "needs_background": "light"
     },
     "output_type": "display_data"
    }
   ],
   "source": [
    "test_diff2_sol = np.array([[ 49,  43,  45,  35],\n",
    "                           [ -4, -20, -24, -40],\n",
    "                           [ 19,   9,  11,   5],\n",
    "                           [-24, -32, -32, -40]])\n",
    "\n",
    "fig, ax = plt.subplots(1, 2)\n",
    "\n",
    "for i, arr in enumerate([test, test_diff2_sol]):\n",
    "    im = ax[i].imshow(arr)\n",
    "    # Loop over data dimensions and create text annotations.\n",
    "    for j in range(4):\n",
    "        for k in range(4):\n",
    "            text = ax[i].text(k, j, arr[j, k],\n",
    "                           ha=\"center\", va=\"center\", color=\"w\")\n",
    "plt.show()"
   ]
  },
  {
   "cell_type": "markdown",
   "id": "01c8c2f3",
   "metadata": {},
   "source": [
    "### Zuguterletzt\n",
    "Noch zwei Hinweise zur Implementierung bei der Schneeflocke\n",
    "1. Wenden Sie die Diffusion auf das _unreceptive\\_grid_ an. Also das _diffusion\\_grid_ ist die zweite Ableitung mal alpha / 12 (siehe Punkt 2). Das addieren Sie dann am Ende auf das  _unreceptive\\_grid_.\n",
    "2. Skalieren Sie Ihre zweite Ableitung mit dem Faktor alpha / 12. Dabei ist alpha die Diffusionskonstante, die man variieren kann. Die 12 könnte man sich auch sparen, aber diese ist eine Art Norm und brauch man, wenn man mit Werten aus dem Paper vergleichen will.\n"
   ]
  }
 ],
 "metadata": {
  "kernelspec": {
   "display_name": "Python 3 (ipykernel)",
   "language": "python",
   "name": "python3"
  },
  "language_info": {
   "codemirror_mode": {
    "name": "ipython",
    "version": 3
   },
   "file_extension": ".py",
   "mimetype": "text/x-python",
   "name": "python",
   "nbconvert_exporter": "python",
   "pygments_lexer": "ipython3",
   "version": "3.10.12"
  }
 },
 "nbformat": 4,
 "nbformat_minor": 5
}
